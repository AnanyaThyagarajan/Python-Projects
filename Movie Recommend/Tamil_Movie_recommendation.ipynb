{
  "cells": [
    {
      "cell_type": "markdown",
      "metadata": {
        "id": "5f4YVgUauWyQ"
      },
      "source": [
        "Dataset source : https://www.kaggle.com/datasets/rohithmahadevan/tamil-movies-dataset"
      ]
    },
    {
      "cell_type": "markdown",
      "metadata": {
        "id": "VrbHTOByuWyR"
      },
      "source": [
        "## Housekeeping and Importing libraries"
      ]
    },
    {
      "cell_type": "code",
      "execution_count": 1,
      "metadata": {
        "id": "_KYfS2DHuWyS"
      },
      "outputs": [],
      "source": [
        "import os\n",
        "import numpy as np\n",
        "import pandas as pd\n",
        "import difflib\n",
        "from sklearn.feature_extraction.text import TfidfVectorizer\n",
        "from sklearn.metrics.pairwise import cosine_similarity\n",
        "\n"
      ]
    },
    {
      "cell_type": "code",
      "execution_count": 2,
      "metadata": {
        "colab": {
          "base_uri": "https://localhost:8080/"
        },
        "id": "9zDbL190uWyS",
        "outputId": "aa97990a-1caf-41d2-d6f2-a2ba63e5186d"
      },
      "outputs": [
        {
          "output_type": "stream",
          "name": "stdout",
          "text": [
            "Current working directory: /content\n"
          ]
        }
      ],
      "source": [
        "# getting the path of the current directory\n",
        "print(\"Current working directory:\", os.getcwd())\n"
      ]
    },
    {
      "cell_type": "code",
      "execution_count": 3,
      "metadata": {
        "colab": {
          "base_uri": "https://localhost:8080/",
          "height": 206
        },
        "id": "Lxynzp2CuWyT",
        "outputId": "8e5cd66a-9b32-43cd-8e03-4585e2bd941a"
      },
      "outputs": [
        {
          "output_type": "execute_result",
          "data": {
            "text/plain": [
              "   Index         MovieName   Genre  Rating              Director  \\\n",
              "0      0        Mouna Guru  Action     7.7          Santha Kumar   \n",
              "1      1       7 Aum Arivu  Action     6.2       A.R. Murugadoss   \n",
              "2      2  Vaagai Sooda Vaa  Comedy     8.0           A. Sarkunam   \n",
              "3      3          Mankatha  Action     7.6         Venkat Prabhu   \n",
              "4      4  Kanchana: Muni 2  Comedy     6.5  Lawrence Raghavendra   \n",
              "\n",
              "                  Actor  PeopleVote  Year  Hero_Rating  movie_rating  \\\n",
              "0             Arulnithi         746  2011            8             8   \n",
              "1                Suriya        9479  2011            9             9   \n",
              "2                 Vimal       14522  2011            8             7   \n",
              "3           Ajith Kumar       12276  2011            6             8   \n",
              "4  Lawrence Raghavendra        1044  2011            8             9   \n",
              "\n",
              "   content_rating  \n",
              "0        7.900000  \n",
              "1        8.066667  \n",
              "2        7.666667  \n",
              "3        7.200000  \n",
              "4        7.833333  "
            ],
            "text/html": [
              "\n",
              "  <div id=\"df-ecb98a96-80de-4048-b6aa-0e8a99591a0d\" class=\"colab-df-container\">\n",
              "    <div>\n",
              "<style scoped>\n",
              "    .dataframe tbody tr th:only-of-type {\n",
              "        vertical-align: middle;\n",
              "    }\n",
              "\n",
              "    .dataframe tbody tr th {\n",
              "        vertical-align: top;\n",
              "    }\n",
              "\n",
              "    .dataframe thead th {\n",
              "        text-align: right;\n",
              "    }\n",
              "</style>\n",
              "<table border=\"1\" class=\"dataframe\">\n",
              "  <thead>\n",
              "    <tr style=\"text-align: right;\">\n",
              "      <th></th>\n",
              "      <th>Index</th>\n",
              "      <th>MovieName</th>\n",
              "      <th>Genre</th>\n",
              "      <th>Rating</th>\n",
              "      <th>Director</th>\n",
              "      <th>Actor</th>\n",
              "      <th>PeopleVote</th>\n",
              "      <th>Year</th>\n",
              "      <th>Hero_Rating</th>\n",
              "      <th>movie_rating</th>\n",
              "      <th>content_rating</th>\n",
              "    </tr>\n",
              "  </thead>\n",
              "  <tbody>\n",
              "    <tr>\n",
              "      <th>0</th>\n",
              "      <td>0</td>\n",
              "      <td>Mouna Guru</td>\n",
              "      <td>Action</td>\n",
              "      <td>7.7</td>\n",
              "      <td>Santha Kumar</td>\n",
              "      <td>Arulnithi</td>\n",
              "      <td>746</td>\n",
              "      <td>2011</td>\n",
              "      <td>8</td>\n",
              "      <td>8</td>\n",
              "      <td>7.900000</td>\n",
              "    </tr>\n",
              "    <tr>\n",
              "      <th>1</th>\n",
              "      <td>1</td>\n",
              "      <td>7 Aum Arivu</td>\n",
              "      <td>Action</td>\n",
              "      <td>6.2</td>\n",
              "      <td>A.R. Murugadoss</td>\n",
              "      <td>Suriya</td>\n",
              "      <td>9479</td>\n",
              "      <td>2011</td>\n",
              "      <td>9</td>\n",
              "      <td>9</td>\n",
              "      <td>8.066667</td>\n",
              "    </tr>\n",
              "    <tr>\n",
              "      <th>2</th>\n",
              "      <td>2</td>\n",
              "      <td>Vaagai Sooda Vaa</td>\n",
              "      <td>Comedy</td>\n",
              "      <td>8.0</td>\n",
              "      <td>A. Sarkunam</td>\n",
              "      <td>Vimal</td>\n",
              "      <td>14522</td>\n",
              "      <td>2011</td>\n",
              "      <td>8</td>\n",
              "      <td>7</td>\n",
              "      <td>7.666667</td>\n",
              "    </tr>\n",
              "    <tr>\n",
              "      <th>3</th>\n",
              "      <td>3</td>\n",
              "      <td>Mankatha</td>\n",
              "      <td>Action</td>\n",
              "      <td>7.6</td>\n",
              "      <td>Venkat Prabhu</td>\n",
              "      <td>Ajith Kumar</td>\n",
              "      <td>12276</td>\n",
              "      <td>2011</td>\n",
              "      <td>6</td>\n",
              "      <td>8</td>\n",
              "      <td>7.200000</td>\n",
              "    </tr>\n",
              "    <tr>\n",
              "      <th>4</th>\n",
              "      <td>4</td>\n",
              "      <td>Kanchana: Muni 2</td>\n",
              "      <td>Comedy</td>\n",
              "      <td>6.5</td>\n",
              "      <td>Lawrence Raghavendra</td>\n",
              "      <td>Lawrence Raghavendra</td>\n",
              "      <td>1044</td>\n",
              "      <td>2011</td>\n",
              "      <td>8</td>\n",
              "      <td>9</td>\n",
              "      <td>7.833333</td>\n",
              "    </tr>\n",
              "  </tbody>\n",
              "</table>\n",
              "</div>\n",
              "    <div class=\"colab-df-buttons\">\n",
              "\n",
              "  <div class=\"colab-df-container\">\n",
              "    <button class=\"colab-df-convert\" onclick=\"convertToInteractive('df-ecb98a96-80de-4048-b6aa-0e8a99591a0d')\"\n",
              "            title=\"Convert this dataframe to an interactive table.\"\n",
              "            style=\"display:none;\">\n",
              "\n",
              "  <svg xmlns=\"http://www.w3.org/2000/svg\" height=\"24px\" viewBox=\"0 -960 960 960\">\n",
              "    <path d=\"M120-120v-720h720v720H120Zm60-500h600v-160H180v160Zm220 220h160v-160H400v160Zm0 220h160v-160H400v160ZM180-400h160v-160H180v160Zm440 0h160v-160H620v160ZM180-180h160v-160H180v160Zm440 0h160v-160H620v160Z\"/>\n",
              "  </svg>\n",
              "    </button>\n",
              "\n",
              "  <style>\n",
              "    .colab-df-container {\n",
              "      display:flex;\n",
              "      gap: 12px;\n",
              "    }\n",
              "\n",
              "    .colab-df-convert {\n",
              "      background-color: #E8F0FE;\n",
              "      border: none;\n",
              "      border-radius: 50%;\n",
              "      cursor: pointer;\n",
              "      display: none;\n",
              "      fill: #1967D2;\n",
              "      height: 32px;\n",
              "      padding: 0 0 0 0;\n",
              "      width: 32px;\n",
              "    }\n",
              "\n",
              "    .colab-df-convert:hover {\n",
              "      background-color: #E2EBFA;\n",
              "      box-shadow: 0px 1px 2px rgba(60, 64, 67, 0.3), 0px 1px 3px 1px rgba(60, 64, 67, 0.15);\n",
              "      fill: #174EA6;\n",
              "    }\n",
              "\n",
              "    .colab-df-buttons div {\n",
              "      margin-bottom: 4px;\n",
              "    }\n",
              "\n",
              "    [theme=dark] .colab-df-convert {\n",
              "      background-color: #3B4455;\n",
              "      fill: #D2E3FC;\n",
              "    }\n",
              "\n",
              "    [theme=dark] .colab-df-convert:hover {\n",
              "      background-color: #434B5C;\n",
              "      box-shadow: 0px 1px 3px 1px rgba(0, 0, 0, 0.15);\n",
              "      filter: drop-shadow(0px 1px 2px rgba(0, 0, 0, 0.3));\n",
              "      fill: #FFFFFF;\n",
              "    }\n",
              "  </style>\n",
              "\n",
              "    <script>\n",
              "      const buttonEl =\n",
              "        document.querySelector('#df-ecb98a96-80de-4048-b6aa-0e8a99591a0d button.colab-df-convert');\n",
              "      buttonEl.style.display =\n",
              "        google.colab.kernel.accessAllowed ? 'block' : 'none';\n",
              "\n",
              "      async function convertToInteractive(key) {\n",
              "        const element = document.querySelector('#df-ecb98a96-80de-4048-b6aa-0e8a99591a0d');\n",
              "        const dataTable =\n",
              "          await google.colab.kernel.invokeFunction('convertToInteractive',\n",
              "                                                    [key], {});\n",
              "        if (!dataTable) return;\n",
              "\n",
              "        const docLinkHtml = 'Like what you see? Visit the ' +\n",
              "          '<a target=\"_blank\" href=https://colab.research.google.com/notebooks/data_table.ipynb>data table notebook</a>'\n",
              "          + ' to learn more about interactive tables.';\n",
              "        element.innerHTML = '';\n",
              "        dataTable['output_type'] = 'display_data';\n",
              "        await google.colab.output.renderOutput(dataTable, element);\n",
              "        const docLink = document.createElement('div');\n",
              "        docLink.innerHTML = docLinkHtml;\n",
              "        element.appendChild(docLink);\n",
              "      }\n",
              "    </script>\n",
              "  </div>\n",
              "\n",
              "\n",
              "<div id=\"df-8700ca7a-710d-4a66-be36-2fb3e101b44c\">\n",
              "  <button class=\"colab-df-quickchart\" onclick=\"quickchart('df-8700ca7a-710d-4a66-be36-2fb3e101b44c')\"\n",
              "            title=\"Suggest charts\"\n",
              "            style=\"display:none;\">\n",
              "\n",
              "<svg xmlns=\"http://www.w3.org/2000/svg\" height=\"24px\"viewBox=\"0 0 24 24\"\n",
              "     width=\"24px\">\n",
              "    <g>\n",
              "        <path d=\"M19 3H5c-1.1 0-2 .9-2 2v14c0 1.1.9 2 2 2h14c1.1 0 2-.9 2-2V5c0-1.1-.9-2-2-2zM9 17H7v-7h2v7zm4 0h-2V7h2v10zm4 0h-2v-4h2v4z\"/>\n",
              "    </g>\n",
              "</svg>\n",
              "  </button>\n",
              "\n",
              "<style>\n",
              "  .colab-df-quickchart {\n",
              "      --bg-color: #E8F0FE;\n",
              "      --fill-color: #1967D2;\n",
              "      --hover-bg-color: #E2EBFA;\n",
              "      --hover-fill-color: #174EA6;\n",
              "      --disabled-fill-color: #AAA;\n",
              "      --disabled-bg-color: #DDD;\n",
              "  }\n",
              "\n",
              "  [theme=dark] .colab-df-quickchart {\n",
              "      --bg-color: #3B4455;\n",
              "      --fill-color: #D2E3FC;\n",
              "      --hover-bg-color: #434B5C;\n",
              "      --hover-fill-color: #FFFFFF;\n",
              "      --disabled-bg-color: #3B4455;\n",
              "      --disabled-fill-color: #666;\n",
              "  }\n",
              "\n",
              "  .colab-df-quickchart {\n",
              "    background-color: var(--bg-color);\n",
              "    border: none;\n",
              "    border-radius: 50%;\n",
              "    cursor: pointer;\n",
              "    display: none;\n",
              "    fill: var(--fill-color);\n",
              "    height: 32px;\n",
              "    padding: 0;\n",
              "    width: 32px;\n",
              "  }\n",
              "\n",
              "  .colab-df-quickchart:hover {\n",
              "    background-color: var(--hover-bg-color);\n",
              "    box-shadow: 0 1px 2px rgba(60, 64, 67, 0.3), 0 1px 3px 1px rgba(60, 64, 67, 0.15);\n",
              "    fill: var(--button-hover-fill-color);\n",
              "  }\n",
              "\n",
              "  .colab-df-quickchart-complete:disabled,\n",
              "  .colab-df-quickchart-complete:disabled:hover {\n",
              "    background-color: var(--disabled-bg-color);\n",
              "    fill: var(--disabled-fill-color);\n",
              "    box-shadow: none;\n",
              "  }\n",
              "\n",
              "  .colab-df-spinner {\n",
              "    border: 2px solid var(--fill-color);\n",
              "    border-color: transparent;\n",
              "    border-bottom-color: var(--fill-color);\n",
              "    animation:\n",
              "      spin 1s steps(1) infinite;\n",
              "  }\n",
              "\n",
              "  @keyframes spin {\n",
              "    0% {\n",
              "      border-color: transparent;\n",
              "      border-bottom-color: var(--fill-color);\n",
              "      border-left-color: var(--fill-color);\n",
              "    }\n",
              "    20% {\n",
              "      border-color: transparent;\n",
              "      border-left-color: var(--fill-color);\n",
              "      border-top-color: var(--fill-color);\n",
              "    }\n",
              "    30% {\n",
              "      border-color: transparent;\n",
              "      border-left-color: var(--fill-color);\n",
              "      border-top-color: var(--fill-color);\n",
              "      border-right-color: var(--fill-color);\n",
              "    }\n",
              "    40% {\n",
              "      border-color: transparent;\n",
              "      border-right-color: var(--fill-color);\n",
              "      border-top-color: var(--fill-color);\n",
              "    }\n",
              "    60% {\n",
              "      border-color: transparent;\n",
              "      border-right-color: var(--fill-color);\n",
              "    }\n",
              "    80% {\n",
              "      border-color: transparent;\n",
              "      border-right-color: var(--fill-color);\n",
              "      border-bottom-color: var(--fill-color);\n",
              "    }\n",
              "    90% {\n",
              "      border-color: transparent;\n",
              "      border-bottom-color: var(--fill-color);\n",
              "    }\n",
              "  }\n",
              "</style>\n",
              "\n",
              "  <script>\n",
              "    async function quickchart(key) {\n",
              "      const quickchartButtonEl =\n",
              "        document.querySelector('#' + key + ' button');\n",
              "      quickchartButtonEl.disabled = true;  // To prevent multiple clicks.\n",
              "      quickchartButtonEl.classList.add('colab-df-spinner');\n",
              "      try {\n",
              "        const charts = await google.colab.kernel.invokeFunction(\n",
              "            'suggestCharts', [key], {});\n",
              "      } catch (error) {\n",
              "        console.error('Error during call to suggestCharts:', error);\n",
              "      }\n",
              "      quickchartButtonEl.classList.remove('colab-df-spinner');\n",
              "      quickchartButtonEl.classList.add('colab-df-quickchart-complete');\n",
              "    }\n",
              "    (() => {\n",
              "      let quickchartButtonEl =\n",
              "        document.querySelector('#df-8700ca7a-710d-4a66-be36-2fb3e101b44c button');\n",
              "      quickchartButtonEl.style.display =\n",
              "        google.colab.kernel.accessAllowed ? 'block' : 'none';\n",
              "    })();\n",
              "  </script>\n",
              "</div>\n",
              "\n",
              "    </div>\n",
              "  </div>\n"
            ],
            "application/vnd.google.colaboratory.intrinsic+json": {
              "type": "dataframe",
              "variable_name": "data_movies",
              "summary": "{\n  \"name\": \"data_movies\",\n  \"rows\": 329,\n  \"fields\": [\n    {\n      \"column\": \"Index\",\n      \"properties\": {\n        \"dtype\": \"number\",\n        \"std\": 95,\n        \"min\": 0,\n        \"max\": 328,\n        \"num_unique_values\": 329,\n        \"samples\": [\n          9,\n          164,\n          139\n        ],\n        \"semantic_type\": \"\",\n        \"description\": \"\"\n      }\n    },\n    {\n      \"column\": \"MovieName\",\n      \"properties\": {\n        \"dtype\": \"string\",\n        \"num_unique_values\": 328,\n        \"samples\": [\n          \"Raja Ranguski\",\n          \"Singam 3\",\n          \"Iruttu Araiyil Murattu Kuthu\"\n        ],\n        \"semantic_type\": \"\",\n        \"description\": \"\"\n      }\n    },\n    {\n      \"column\": \"Genre\",\n      \"properties\": {\n        \"dtype\": \"category\",\n        \"num_unique_values\": 12,\n        \"samples\": [\n          \"Family\",\n          \"Biography\",\n          \"Action\"\n        ],\n        \"semantic_type\": \"\",\n        \"description\": \"\"\n      }\n    },\n    {\n      \"column\": \"Rating\",\n      \"properties\": {\n        \"dtype\": \"number\",\n        \"std\": 1.4038352437705992,\n        \"min\": 1.2,\n        \"max\": 9.0,\n        \"num_unique_values\": 62,\n        \"samples\": [\n          2.7,\n          4.5,\n          7.7\n        ],\n        \"semantic_type\": \"\",\n        \"description\": \"\"\n      }\n    },\n    {\n      \"column\": \"Director\",\n      \"properties\": {\n        \"dtype\": \"string\",\n        \"num_unique_values\": 233,\n        \"samples\": [\n          \"Lakshman\",\n          \"Kalees\",\n          \"Rajath Ravishankar\"\n        ],\n        \"semantic_type\": \"\",\n        \"description\": \"\"\n      }\n    },\n    {\n      \"column\": \"Actor\",\n      \"properties\": {\n        \"dtype\": \"string\",\n        \"num_unique_values\": 178,\n        \"samples\": [\n          \"Prasanna\",\n          \"Anucharan\",\n          \"Vijay Deverakonda\"\n        ],\n        \"semantic_type\": \"\",\n        \"description\": \"\"\n      }\n    },\n    {\n      \"column\": \"PeopleVote\",\n      \"properties\": {\n        \"dtype\": \"number\",\n        \"std\": 14380,\n        \"min\": 7,\n        \"max\": 71418,\n        \"num_unique_values\": 321,\n        \"samples\": [\n          510,\n          175,\n          701\n        ],\n        \"semantic_type\": \"\",\n        \"description\": \"\"\n      }\n    },\n    {\n      \"column\": \"Year\",\n      \"properties\": {\n        \"dtype\": \"number\",\n        \"std\": 2,\n        \"min\": 2011,\n        \"max\": 2019,\n        \"num_unique_values\": 9,\n        \"samples\": [\n          2018,\n          2012,\n          2016\n        ],\n        \"semantic_type\": \"\",\n        \"description\": \"\"\n      }\n    },\n    {\n      \"column\": \"Hero_Rating\",\n      \"properties\": {\n        \"dtype\": \"number\",\n        \"std\": 1,\n        \"min\": 1,\n        \"max\": 10,\n        \"num_unique_values\": 10,\n        \"samples\": [\n          1,\n          9,\n          2\n        ],\n        \"semantic_type\": \"\",\n        \"description\": \"\"\n      }\n    },\n    {\n      \"column\": \"movie_rating\",\n      \"properties\": {\n        \"dtype\": \"number\",\n        \"std\": 0,\n        \"min\": 6,\n        \"max\": 10,\n        \"num_unique_values\": 5,\n        \"samples\": [\n          9,\n          6,\n          7\n        ],\n        \"semantic_type\": \"\",\n        \"description\": \"\"\n      }\n    },\n    {\n      \"column\": \"content_rating\",\n      \"properties\": {\n        \"dtype\": \"number\",\n        \"std\": 0.8559996842207791,\n        \"min\": 4.3,\n        \"max\": 8.766666667,\n        \"num_unique_values\": 98,\n        \"samples\": [\n          8.333333333,\n          8.5,\n          5.133333333\n        ],\n        \"semantic_type\": \"\",\n        \"description\": \"\"\n      }\n    }\n  ]\n}"
            }
          },
          "metadata": {},
          "execution_count": 3
        }
      ],
      "source": [
        "#loading the data\n",
        "\n",
        "#directory = r\"c:\\Users\\Ananya\\AIML\\Python-Projects\\Movie Recommend\"\n",
        "\n",
        "#data_movies = pd.read_csv('c:/Users/Ananya/AIML/Python-Projects/Movie Recommend/Tamil_movies_dataset.csv')\n",
        "\n",
        "##data_movies = pd.read_csv('c:/Users/Ananya/AIML/Python-Projects/Movie Recommend/Tamil_movies_dataset.csv')\n",
        "\n",
        "#data_movies = pd.read_csv('/content/Tamil_movies_dataset.csv') # for colab\n",
        "\n",
        "# Load the data directly from GitHub\n",
        "\n",
        "url = 'https://raw.githubusercontent.com/AnanyaThyagarajan/Python-Projects/main/Movie%20Recommend/Tamil_movies_dataset.csv'\n",
        "data_movies = pd.read_csv(url)\n",
        "\n",
        "data_movies.head(5)\n",
        "\n",
        "\n"
      ]
    },
    {
      "cell_type": "code",
      "execution_count": 4,
      "metadata": {
        "colab": {
          "base_uri": "https://localhost:8080/"
        },
        "id": "zRkcgqZMuWyT",
        "outputId": "c2d5237e-c66f-4680-bfbd-76ae2947df8f"
      },
      "outputs": [
        {
          "output_type": "execute_result",
          "data": {
            "text/plain": [
              "(329, 11)"
            ]
          },
          "metadata": {},
          "execution_count": 4
        }
      ],
      "source": [
        "data_movies.shape"
      ]
    },
    {
      "cell_type": "code",
      "execution_count": 5,
      "metadata": {
        "colab": {
          "base_uri": "https://localhost:8080/"
        },
        "id": "QXwozN_buWyT",
        "outputId": "8e0cf3a1-f83c-47f6-8322-98583fb0a901"
      },
      "outputs": [
        {
          "output_type": "execute_result",
          "data": {
            "text/plain": [
              "Index             0\n",
              "MovieName         0\n",
              "Genre             0\n",
              "Rating            0\n",
              "Director          0\n",
              "Actor             0\n",
              "PeopleVote        0\n",
              "Year              0\n",
              "Hero_Rating       0\n",
              "movie_rating      0\n",
              "content_rating    0\n",
              "dtype: int64"
            ]
          },
          "metadata": {},
          "execution_count": 5
        }
      ],
      "source": [
        "#checking for null values\n",
        "data_movies.isnull().sum()\n"
      ]
    },
    {
      "cell_type": "code",
      "execution_count": 6,
      "metadata": {
        "colab": {
          "base_uri": "https://localhost:8080/"
        },
        "id": "c8Y825emuWyT",
        "outputId": "c6a53849-1e89-4a8d-ac89-32b031306de5"
      },
      "outputs": [
        {
          "output_type": "execute_result",
          "data": {
            "text/plain": [
              "Index(['Index', 'MovieName', 'Genre', 'Rating', 'Director', 'Actor',\n",
              "       'PeopleVote', 'Year', 'Hero_Rating', 'movie_rating', 'content_rating'],\n",
              "      dtype='object')"
            ]
          },
          "metadata": {},
          "execution_count": 6
        }
      ],
      "source": [
        "# capturing the column names as given in the dataset\n",
        "data_movies.columns"
      ]
    },
    {
      "cell_type": "code",
      "execution_count": 7,
      "metadata": {
        "id": "NB-FVbIPuWyT"
      },
      "outputs": [],
      "source": [
        "\n",
        "# Preprocess the movie titles once into a set for fast access\n",
        "all_titles_list = set(data_movies['MovieName'].tolist())"
      ]
    },
    {
      "cell_type": "code",
      "execution_count": 8,
      "metadata": {
        "colab": {
          "base_uri": "https://localhost:8080/"
        },
        "id": "yzeW-s7ZuWyT",
        "outputId": "46847dec-e928-4daf-ca74-a07435bc97a1"
      },
      "outputs": [
        {
          "output_type": "execute_result",
          "data": {
            "text/plain": [
              "['MovieName', 'Genre', 'Actor', 'Director']"
            ]
          },
          "metadata": {},
          "execution_count": 8
        }
      ],
      "source": [
        "# selection of unique features\n",
        "\n",
        "unique_features = ['MovieName','Genre','Actor','Director']\n",
        "unique_features"
      ]
    },
    {
      "cell_type": "markdown",
      "metadata": {
        "id": "17Ca4HokuWyU"
      },
      "source": [
        "while the current dataset does not have any null values, we need to fill null values in case we decide to use someother dataset in the future"
      ]
    },
    {
      "cell_type": "code",
      "execution_count": 9,
      "metadata": {
        "colab": {
          "base_uri": "https://localhost:8080/"
        },
        "id": "dqa_-AFruWyU",
        "outputId": "1b505107-b2fc-44f2-fc7e-04d5c0efb3b2"
      },
      "outputs": [
        {
          "output_type": "stream",
          "name": "stdout",
          "text": [
            "No NAN values found in 'MovieName'.\n",
            "No NAN values found in 'Genre'.\n",
            "No NAN values found in 'Actor'.\n",
            "No NAN values found in 'Director'.\n"
          ]
        }
      ],
      "source": [
        "# if any null value is found it will be filled with 'No information available'\n",
        "\n",
        "for feature in unique_features:\n",
        "    #counting the nan before we fill it\n",
        "    before_nan = data_movies[feature].isna().sum()\n",
        "    if before_nan > 0:\n",
        "        data_movies[feature] = data_movies[feature].fillna('No information available')\n",
        "        print(f\"Filled {before_nan} NAN values in '{feature}' with 'No information available'.\")\n",
        "    else:\n",
        "        print(f\"No NAN values found in '{feature}'.\")\n"
      ]
    },
    {
      "cell_type": "code",
      "execution_count": 10,
      "metadata": {
        "colab": {
          "base_uri": "https://localhost:8080/"
        },
        "id": "pdWzHYT3uWyU",
        "outputId": "9233014d-a2bd-46ac-8554-8891bc7c4b0a"
      },
      "outputs": [
        {
          "output_type": "execute_result",
          "data": {
            "text/plain": [
              "0             Mouna Guru Action Arulnithi Santha Kumar\n",
              "1            7 Aum Arivu Action Suriya A.R. Murugadoss\n",
              "2            Vaagai Sooda Vaa Comedy Vimal A. Sarkunam\n",
              "3            Mankatha Action Ajith Kumar Venkat Prabhu\n",
              "4    Kanchana: Muni 2 Comedy Lawrence Raghavendra L...\n",
              "dtype: object"
            ]
          },
          "metadata": {},
          "execution_count": 10
        }
      ],
      "source": [
        "# combining the features\n",
        "feature_combined = data_movies['MovieName'] +  \" \"+ data_movies['Genre'] +  \" \"+ data_movies['Actor'] +  \" \"+ data_movies['Director']\n",
        "feature_combined.head()"
      ]
    },
    {
      "cell_type": "code",
      "execution_count": 11,
      "metadata": {
        "colab": {
          "base_uri": "https://localhost:8080/"
        },
        "id": "xG0CwDljuWyU",
        "outputId": "88eb374c-8682-4802-9052-b4771952a04b"
      },
      "outputs": [
        {
          "output_type": "stream",
          "name": "stdout",
          "text": [
            "Shape of Feature Vector:  (329, 1013)\n"
          ]
        }
      ],
      "source": [
        "# Vectorizing the combined features\n",
        "\n",
        "tf_vector = TfidfVectorizer()\n",
        "feature_vect = tf_vector.fit_transform(feature_combined)\n",
        "print(\"Shape of Feature Vector: \",feature_vect.shape)\n",
        "\n"
      ]
    },
    {
      "cell_type": "code",
      "execution_count": 12,
      "metadata": {
        "colab": {
          "base_uri": "https://localhost:8080/"
        },
        "id": "jKb2TtW9uWyV",
        "outputId": "39b6fba4-09e9-40e2-9f80-6c7b126310dc"
      },
      "outputs": [
        {
          "output_type": "stream",
          "name": "stdout",
          "text": [
            "The Similarity matrix shape:  (329, 329)\n"
          ]
        }
      ],
      "source": [
        "# Now calculting the cosine similarity\n",
        "cos_similar = cosine_similarity(feature_vect)\n",
        "print(\"The Similarity matrix shape: \", cos_similar.shape)\n"
      ]
    },
    {
      "cell_type": "code",
      "execution_count": 13,
      "metadata": {
        "id": "22EWudyDent8"
      },
      "outputs": [],
      "source": [
        "def user_input():\n",
        "    # Handling the user input for the favorite movie\n",
        "    user_movieName = input(\"Enter the name of your favorite movie: \")\n",
        "    return user_movieName"
      ]
    },
    {
      "cell_type": "code",
      "execution_count": 14,
      "metadata": {
        "colab": {
          "base_uri": "https://localhost:8080/"
        },
        "id": "CApjpGpzent8",
        "outputId": "1c5cff17-9b61-4d64-d937-1092c5d1ab91"
      },
      "outputs": [
        {
          "output_type": "stream",
          "name": "stdout",
          "text": [
            "Enter the name of your favorite movie: Theri\n",
            "Did you mean: ['Theri', 'Thiri', 'Thegidi']?\n",
            "Enter your input: Yes or No  y\n",
            "Index of your favorite movie:  97\n",
            "Suggesting similar movies for you: \n",
            "1. Mersal - Similarity: 65.69%\n",
            "2. Bigil - Similarity: 65.69%\n",
            "3. Uriyadi - Similarity: 38.58%\n",
            "4. Uriyadi 2 - Similarity: 38.58%\n",
            "5. Thuppakki - Similarity: 34.32%\n",
            "6. Kaththi - Similarity: 32.86%\n",
            "7. Sarkar - Similarity: 32.86%\n",
            "8. Raja Rani - Similarity: 32.65%\n",
            "9. Bairavaa - Similarity: 30.94%\n",
            "10. Sindhubaadh - Similarity: 22.55%\n",
            "11. Watchman - Similarity: 19.14%\n",
            "12. Goli Soda - Similarity: 17.94%\n",
            "13. 96 - Similarity: 17.65%\n",
            "14. Pannaiyarum Padminiyum - Similarity: 16.27%\n",
            "15. Papanasam - Similarity: 16.21%\n",
            "16. 24 - Similarity: 14.34%\n",
            "17. Veeram - Similarity: 13.40%\n",
            "18. Vivegam - Similarity: 13.40%\n",
            "19. Viswasam - Similarity: 13.40%\n",
            "20. Vanamagan - Similarity: 13.08%\n"
          ]
        }
      ],
      "source": [
        "\n",
        "\n",
        "def movie_recomm(user_movieName, all_titles_list, data_movies, cos_similar):\n",
        "    search_close_match = difflib.get_close_matches(user_movieName, all_titles_list, n=5)\n",
        "    if not search_close_match:\n",
        "        print(\"No close matches found! Please check your input and either try again or try a different movie.\")\n",
        "    else:\n",
        "        print(f'Did you mean: {search_close_match}?')\n",
        "        user_res = input('Enter your input: Yes or No  ')\n",
        "        if user_res in ('Yes', 'yes', 'y', 'Y'):\n",
        "            close_match = search_close_match[0]\n",
        "            index_movie = data_movies[data_movies.MovieName == close_match].index.values[0]\n",
        "            print(\"Index of your favorite movie: \", index_movie)\n",
        "            # finding movies similar to the chosen one by the user\n",
        "            similar_score = list(enumerate(cos_similar[index_movie]))\n",
        "            sorted_similar_mov = sorted(similar_score, key=lambda x: x[1], reverse=True)\n",
        "\n",
        "            # displaying similar movies with similarity percentages\n",
        "            print(\"Suggesting similar movies for you: \")\n",
        "            a = 1\n",
        "            for movie in sorted_similar_mov[1:21]:  # Skip the first as it is the movie itself with 100% similarity\n",
        "                index = movie[0]\n",
        "                similarity_percentage = movie[1] * 100  # Convert fraction to percentage\n",
        "                title_fr_index = data_movies.at[index, \"MovieName\"]\n",
        "                print(f\"{a}. {title_fr_index} - Similarity: {similarity_percentage:.2f}%\")\n",
        "                a += 1\n",
        "        else:\n",
        "            print(\"Sorry! Try again.\")\n",
        "\n",
        "# main\n",
        "user_movie = user_input()\n",
        "movie_recomm(user_movie, all_titles_list, data_movies, cos_similar)\n"
      ]
    },
    {
      "cell_type": "markdown",
      "metadata": {
        "id": "1pM0a-NvyM5d"
      },
      "source": []
    },
    {
      "cell_type": "code",
      "execution_count": 15,
      "metadata": {
        "id": "4BoxY7O3wEWY"
      },
      "outputs": [],
      "source": [
        "### Create a Pickle file using serialization\n",
        "import pickle\n",
        "pickle_out = open(\"movie_recomm.pkl\",\"wb\")\n",
        "pickle.dump(movie_recomm, pickle_out)\n",
        "pickle_out.close()"
      ]
    },
    {
      "cell_type": "code",
      "execution_count": null,
      "metadata": {
        "id": "ks-i_r7fwEaN"
      },
      "outputs": [],
      "source": []
    },
    {
      "cell_type": "code",
      "execution_count": null,
      "metadata": {
        "id": "ZLRPrsm6uWyV"
      },
      "outputs": [],
      "source": []
    }
  ],
  "metadata": {
    "accelerator": "GPU",
    "colab": {
      "gpuType": "T4",
      "provenance": []
    },
    "kernelspec": {
      "display_name": "Python 3",
      "name": "python3"
    },
    "language_info": {
      "codemirror_mode": {
        "name": "ipython",
        "version": 3
      },
      "file_extension": ".py",
      "mimetype": "text/x-python",
      "name": "python",
      "nbconvert_exporter": "python",
      "pygments_lexer": "ipython3",
      "version": "3.11.0"
    }
  },
  "nbformat": 4,
  "nbformat_minor": 0
}