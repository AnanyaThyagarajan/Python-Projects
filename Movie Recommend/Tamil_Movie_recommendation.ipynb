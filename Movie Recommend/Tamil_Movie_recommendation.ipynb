{
 "cells": [
  {
   "cell_type": "code",
   "execution_count": 1,
   "metadata": {},
   "outputs": [
    {
     "name": "stdout",
     "output_type": "stream",
     "text": [
      "Note: you may need to restart the kernel to use updated packages.\n"
     ]
    },
    {
     "name": "stderr",
     "output_type": "stream",
     "text": [
      "ERROR: Could not find a version that satisfies the requirement difflib (from versions: none)\n",
      "ERROR: No matching distribution found for difflib\n"
     ]
    }
   ],
   "source": [
    "\n"
   ]
  },
  {
   "cell_type": "markdown",
   "metadata": {},
   "source": [
    "## Housekeeping and Importing libraries"
   ]
  },
  {
   "cell_type": "code",
   "execution_count": 3,
   "metadata": {},
   "outputs": [],
   "source": [
    "import os\n",
    "import numpy as np\n",
    "import pandas as pd \n",
    "import difflib\n",
    "from sklearn.feature_extraction.text import TfidfVectorizer\n",
    "from sklearn.metrics.pairwise import cosine_similarity\n",
    "\n"
   ]
  },
  {
   "cell_type": "code",
   "execution_count": 4,
   "metadata": {},
   "outputs": [
    {
     "name": "stdout",
     "output_type": "stream",
     "text": [
      "Current working directory: c:\\Users\\Ananya\\AIML\\Python-Projects\n"
     ]
    }
   ],
   "source": [
    "# getting the path of the current directory\n",
    "print(\"Current working directory:\", os.getcwd())\n"
   ]
  },
  {
   "cell_type": "code",
   "execution_count": 9,
   "metadata": {},
   "outputs": [
    {
     "data": {
      "text/html": [
       "<div>\n",
       "<style scoped>\n",
       "    .dataframe tbody tr th:only-of-type {\n",
       "        vertical-align: middle;\n",
       "    }\n",
       "\n",
       "    .dataframe tbody tr th {\n",
       "        vertical-align: top;\n",
       "    }\n",
       "\n",
       "    .dataframe thead th {\n",
       "        text-align: right;\n",
       "    }\n",
       "</style>\n",
       "<table border=\"1\" class=\"dataframe\">\n",
       "  <thead>\n",
       "    <tr style=\"text-align: right;\">\n",
       "      <th></th>\n",
       "      <th>Index</th>\n",
       "      <th>MovieName</th>\n",
       "      <th>Genre</th>\n",
       "      <th>Rating</th>\n",
       "      <th>Director</th>\n",
       "      <th>Actor</th>\n",
       "      <th>PeopleVote</th>\n",
       "      <th>Year</th>\n",
       "      <th>Hero_Rating</th>\n",
       "      <th>movie_rating</th>\n",
       "      <th>content_rating</th>\n",
       "    </tr>\n",
       "  </thead>\n",
       "  <tbody>\n",
       "    <tr>\n",
       "      <th>0</th>\n",
       "      <td>0</td>\n",
       "      <td>Mouna Guru</td>\n",
       "      <td>Action</td>\n",
       "      <td>7.7</td>\n",
       "      <td>Santha Kumar</td>\n",
       "      <td>Arulnithi</td>\n",
       "      <td>746</td>\n",
       "      <td>2011</td>\n",
       "      <td>8</td>\n",
       "      <td>8</td>\n",
       "      <td>7.900000</td>\n",
       "    </tr>\n",
       "    <tr>\n",
       "      <th>1</th>\n",
       "      <td>1</td>\n",
       "      <td>7 Aum Arivu</td>\n",
       "      <td>Action</td>\n",
       "      <td>6.2</td>\n",
       "      <td>A.R. Murugadoss</td>\n",
       "      <td>Suriya</td>\n",
       "      <td>9479</td>\n",
       "      <td>2011</td>\n",
       "      <td>9</td>\n",
       "      <td>9</td>\n",
       "      <td>8.066667</td>\n",
       "    </tr>\n",
       "    <tr>\n",
       "      <th>2</th>\n",
       "      <td>2</td>\n",
       "      <td>Vaagai Sooda Vaa</td>\n",
       "      <td>Comedy</td>\n",
       "      <td>8.0</td>\n",
       "      <td>A. Sarkunam</td>\n",
       "      <td>Vimal</td>\n",
       "      <td>14522</td>\n",
       "      <td>2011</td>\n",
       "      <td>8</td>\n",
       "      <td>7</td>\n",
       "      <td>7.666667</td>\n",
       "    </tr>\n",
       "    <tr>\n",
       "      <th>3</th>\n",
       "      <td>3</td>\n",
       "      <td>Mankatha</td>\n",
       "      <td>Action</td>\n",
       "      <td>7.6</td>\n",
       "      <td>Venkat Prabhu</td>\n",
       "      <td>Ajith Kumar</td>\n",
       "      <td>12276</td>\n",
       "      <td>2011</td>\n",
       "      <td>6</td>\n",
       "      <td>8</td>\n",
       "      <td>7.200000</td>\n",
       "    </tr>\n",
       "    <tr>\n",
       "      <th>4</th>\n",
       "      <td>4</td>\n",
       "      <td>Kanchana: Muni 2</td>\n",
       "      <td>Comedy</td>\n",
       "      <td>6.5</td>\n",
       "      <td>Lawrence Raghavendra</td>\n",
       "      <td>Lawrence Raghavendra</td>\n",
       "      <td>1044</td>\n",
       "      <td>2011</td>\n",
       "      <td>8</td>\n",
       "      <td>9</td>\n",
       "      <td>7.833333</td>\n",
       "    </tr>\n",
       "  </tbody>\n",
       "</table>\n",
       "</div>"
      ],
      "text/plain": [
       "   Index         MovieName   Genre  Rating              Director  \\\n",
       "0      0        Mouna Guru  Action     7.7          Santha Kumar   \n",
       "1      1       7 Aum Arivu  Action     6.2       A.R. Murugadoss   \n",
       "2      2  Vaagai Sooda Vaa  Comedy     8.0           A. Sarkunam   \n",
       "3      3          Mankatha  Action     7.6         Venkat Prabhu   \n",
       "4      4  Kanchana: Muni 2  Comedy     6.5  Lawrence Raghavendra   \n",
       "\n",
       "                  Actor  PeopleVote  Year  Hero_Rating  movie_rating  \\\n",
       "0             Arulnithi         746  2011            8             8   \n",
       "1                Suriya        9479  2011            9             9   \n",
       "2                 Vimal       14522  2011            8             7   \n",
       "3           Ajith Kumar       12276  2011            6             8   \n",
       "4  Lawrence Raghavendra        1044  2011            8             9   \n",
       "\n",
       "   content_rating  \n",
       "0        7.900000  \n",
       "1        8.066667  \n",
       "2        7.666667  \n",
       "3        7.200000  \n",
       "4        7.833333  "
      ]
     },
     "execution_count": 9,
     "metadata": {},
     "output_type": "execute_result"
    }
   ],
   "source": [
    "#loading the data\n",
    "\n",
    "directory = r\"c:\\Users\\Ananya\\AIML\\Python-Projects\\Movie Recommend\"\n",
    "\n",
    "data_movies = pd.read_csv('c:/Users/Ananya/AIML/Python-Projects/Movie Recommend/Tamil_movies_dataset.csv')\n",
    "data_movies.head(5)"
   ]
  },
  {
   "cell_type": "code",
   "execution_count": null,
   "metadata": {},
   "outputs": [],
   "source": []
  }
 ],
 "metadata": {
  "kernelspec": {
   "display_name": "Python 3",
   "language": "python",
   "name": "python3"
  },
  "language_info": {
   "codemirror_mode": {
    "name": "ipython",
    "version": 3
   },
   "file_extension": ".py",
   "mimetype": "text/x-python",
   "name": "python",
   "nbconvert_exporter": "python",
   "pygments_lexer": "ipython3",
   "version": "3.11.0"
  }
 },
 "nbformat": 4,
 "nbformat_minor": 2
}
