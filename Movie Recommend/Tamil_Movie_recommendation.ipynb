{
  "cells": [
    {
      "cell_type": "markdown",
      "metadata": {
        "id": "5f4YVgUauWyQ"
      },
      "source": [
        "Dataset source : https://www.kaggle.com/datasets/rohithmahadevan/tamil-movies-dataset"
      ]
    },
    {
      "cell_type": "markdown",
      "metadata": {
        "id": "VrbHTOByuWyR"
      },
      "source": [
        "## Housekeeping and Importing libraries"
      ]
    },
    {
      "cell_type": "code",
      "execution_count": 3,
      "metadata": {
        "id": "_KYfS2DHuWyS"
      },
      "outputs": [],
      "source": [
        "import os\n",
        "import numpy as np\n",
        "import pandas as pd\n",
        "import difflib\n",
        "from sklearn.feature_extraction.text import TfidfVectorizer\n",
        "from sklearn.metrics.pairwise import cosine_similarity\n",
        "\n"
      ]
    },
    {
      "cell_type": "code",
      "execution_count": 4,
      "metadata": {
        "colab": {
          "base_uri": "https://localhost:8080/"
        },
        "id": "9zDbL190uWyS",
        "outputId": "b72ae590-4d02-48b8-dba1-0dcb0f015aa5"
      },
      "outputs": [
        {
          "name": "stdout",
          "output_type": "stream",
          "text": [
            "Current working directory: c:\\Users\\Ananya\\AIML\\Python-Projects\\Python-Projects\\Movie Recommend\n"
          ]
        }
      ],
      "source": [
        "# getting the path of the current directory\n",
        "print(\"Current working directory:\", os.getcwd())\n"
      ]
    },
    {
      "cell_type": "code",
      "execution_count": 5,
      "metadata": {
        "colab": {
          "base_uri": "https://localhost:8080/",
          "height": 206
        },
        "id": "Lxynzp2CuWyT",
        "outputId": "cad90457-8f88-4d7d-a143-1172ae117fbb"
      },
      "outputs": [
        {
          "data": {
            "text/html": [
              "<div>\n",
              "<style scoped>\n",
              "    .dataframe tbody tr th:only-of-type {\n",
              "        vertical-align: middle;\n",
              "    }\n",
              "\n",
              "    .dataframe tbody tr th {\n",
              "        vertical-align: top;\n",
              "    }\n",
              "\n",
              "    .dataframe thead th {\n",
              "        text-align: right;\n",
              "    }\n",
              "</style>\n",
              "<table border=\"1\" class=\"dataframe\">\n",
              "  <thead>\n",
              "    <tr style=\"text-align: right;\">\n",
              "      <th></th>\n",
              "      <th>Index</th>\n",
              "      <th>MovieName</th>\n",
              "      <th>Genre</th>\n",
              "      <th>Rating</th>\n",
              "      <th>Director</th>\n",
              "      <th>Actor</th>\n",
              "      <th>PeopleVote</th>\n",
              "      <th>Year</th>\n",
              "      <th>Hero_Rating</th>\n",
              "      <th>movie_rating</th>\n",
              "      <th>content_rating</th>\n",
              "    </tr>\n",
              "  </thead>\n",
              "  <tbody>\n",
              "    <tr>\n",
              "      <th>0</th>\n",
              "      <td>0</td>\n",
              "      <td>Mouna Guru</td>\n",
              "      <td>Action</td>\n",
              "      <td>7.7</td>\n",
              "      <td>Santha Kumar</td>\n",
              "      <td>Arulnithi</td>\n",
              "      <td>746</td>\n",
              "      <td>2011</td>\n",
              "      <td>8</td>\n",
              "      <td>8</td>\n",
              "      <td>7.900000</td>\n",
              "    </tr>\n",
              "    <tr>\n",
              "      <th>1</th>\n",
              "      <td>1</td>\n",
              "      <td>7 Aum Arivu</td>\n",
              "      <td>Action</td>\n",
              "      <td>6.2</td>\n",
              "      <td>A.R. Murugadoss</td>\n",
              "      <td>Suriya</td>\n",
              "      <td>9479</td>\n",
              "      <td>2011</td>\n",
              "      <td>9</td>\n",
              "      <td>9</td>\n",
              "      <td>8.066667</td>\n",
              "    </tr>\n",
              "    <tr>\n",
              "      <th>2</th>\n",
              "      <td>2</td>\n",
              "      <td>Vaagai Sooda Vaa</td>\n",
              "      <td>Comedy</td>\n",
              "      <td>8.0</td>\n",
              "      <td>A. Sarkunam</td>\n",
              "      <td>Vimal</td>\n",
              "      <td>14522</td>\n",
              "      <td>2011</td>\n",
              "      <td>8</td>\n",
              "      <td>7</td>\n",
              "      <td>7.666667</td>\n",
              "    </tr>\n",
              "    <tr>\n",
              "      <th>3</th>\n",
              "      <td>3</td>\n",
              "      <td>Mankatha</td>\n",
              "      <td>Action</td>\n",
              "      <td>7.6</td>\n",
              "      <td>Venkat Prabhu</td>\n",
              "      <td>Ajith Kumar</td>\n",
              "      <td>12276</td>\n",
              "      <td>2011</td>\n",
              "      <td>6</td>\n",
              "      <td>8</td>\n",
              "      <td>7.200000</td>\n",
              "    </tr>\n",
              "    <tr>\n",
              "      <th>4</th>\n",
              "      <td>4</td>\n",
              "      <td>Kanchana: Muni 2</td>\n",
              "      <td>Comedy</td>\n",
              "      <td>6.5</td>\n",
              "      <td>Lawrence Raghavendra</td>\n",
              "      <td>Lawrence Raghavendra</td>\n",
              "      <td>1044</td>\n",
              "      <td>2011</td>\n",
              "      <td>8</td>\n",
              "      <td>9</td>\n",
              "      <td>7.833333</td>\n",
              "    </tr>\n",
              "  </tbody>\n",
              "</table>\n",
              "</div>"
            ],
            "text/plain": [
              "   Index         MovieName   Genre  Rating              Director  \\\n",
              "0      0        Mouna Guru  Action     7.7          Santha Kumar   \n",
              "1      1       7 Aum Arivu  Action     6.2       A.R. Murugadoss   \n",
              "2      2  Vaagai Sooda Vaa  Comedy     8.0           A. Sarkunam   \n",
              "3      3          Mankatha  Action     7.6         Venkat Prabhu   \n",
              "4      4  Kanchana: Muni 2  Comedy     6.5  Lawrence Raghavendra   \n",
              "\n",
              "                  Actor  PeopleVote  Year  Hero_Rating  movie_rating  \\\n",
              "0             Arulnithi         746  2011            8             8   \n",
              "1                Suriya        9479  2011            9             9   \n",
              "2                 Vimal       14522  2011            8             7   \n",
              "3           Ajith Kumar       12276  2011            6             8   \n",
              "4  Lawrence Raghavendra        1044  2011            8             9   \n",
              "\n",
              "   content_rating  \n",
              "0        7.900000  \n",
              "1        8.066667  \n",
              "2        7.666667  \n",
              "3        7.200000  \n",
              "4        7.833333  "
            ]
          },
          "execution_count": 5,
          "metadata": {},
          "output_type": "execute_result"
        }
      ],
      "source": [
        "#loading the data\n",
        "\n",
        "#directory = r\"c:\\Users\\Ananya\\AIML\\Python-Projects\\Movie Recommend\"\n",
        "\n",
        "#data_movies = pd.read_csv('c:/Users/Ananya/AIML/Python-Projects/Movie Recommend/Tamil_movies_dataset.csv')\n",
        "\n",
        "##data_movies = pd.read_csv('c:/Users/Ananya/AIML/Python-Projects/Movie Recommend/Tamil_movies_dataset.csv')\n",
        "\n",
        "#data_movies = pd.read_csv('/content/Tamil_movies_dataset.csv') # for colab\n",
        "\n",
        "# Load the data directly from GitHub\n",
        "\n",
        "url = 'https://raw.githubusercontent.com/AnanyaThyagarajan/Python-Projects/main/Movie%20Recommend/Tamil_movies_dataset.csv'\n",
        "data_movies = pd.read_csv(url)\n",
        "\n",
        "data_movies.head(5)\n",
        "\n",
        "\n"
      ]
    },
    {
      "cell_type": "code",
      "execution_count": 6,
      "metadata": {
        "colab": {
          "base_uri": "https://localhost:8080/"
        },
        "id": "zRkcgqZMuWyT",
        "outputId": "2b5bc258-becc-41b9-f4f8-ad2c87d83ebd"
      },
      "outputs": [
        {
          "data": {
            "text/plain": [
              "(329, 11)"
            ]
          },
          "execution_count": 6,
          "metadata": {},
          "output_type": "execute_result"
        }
      ],
      "source": [
        "data_movies.shape"
      ]
    },
    {
      "cell_type": "code",
      "execution_count": 7,
      "metadata": {
        "colab": {
          "base_uri": "https://localhost:8080/"
        },
        "id": "QXwozN_buWyT",
        "outputId": "db6d8695-c325-486a-9489-bd346a81d1a7"
      },
      "outputs": [
        {
          "data": {
            "text/plain": [
              "Index             0\n",
              "MovieName         0\n",
              "Genre             0\n",
              "Rating            0\n",
              "Director          0\n",
              "Actor             0\n",
              "PeopleVote        0\n",
              "Year              0\n",
              "Hero_Rating       0\n",
              "movie_rating      0\n",
              "content_rating    0\n",
              "dtype: int64"
            ]
          },
          "execution_count": 7,
          "metadata": {},
          "output_type": "execute_result"
        }
      ],
      "source": [
        "#checking for null values\n",
        "data_movies.isnull().sum()\n"
      ]
    },
    {
      "cell_type": "code",
      "execution_count": 8,
      "metadata": {
        "colab": {
          "base_uri": "https://localhost:8080/"
        },
        "id": "c8Y825emuWyT",
        "outputId": "6072f5c3-8eb0-4921-8d2f-8149da077f7d"
      },
      "outputs": [
        {
          "data": {
            "text/plain": [
              "Index(['Index', 'MovieName', 'Genre', 'Rating', 'Director', 'Actor',\n",
              "       'PeopleVote', 'Year', 'Hero_Rating', 'movie_rating', 'content_rating'],\n",
              "      dtype='object')"
            ]
          },
          "execution_count": 8,
          "metadata": {},
          "output_type": "execute_result"
        }
      ],
      "source": [
        "# capturing the column names as given in the dataset\n",
        "data_movies.columns"
      ]
    },
    {
      "cell_type": "code",
      "execution_count": 9,
      "metadata": {
        "id": "NB-FVbIPuWyT"
      },
      "outputs": [],
      "source": [
        "\n",
        "# Preprocess the movie titles once into a set for fast access\n",
        "all_titles_list = set(data_movies['MovieName'].tolist())"
      ]
    },
    {
      "cell_type": "code",
      "execution_count": 10,
      "metadata": {
        "colab": {
          "base_uri": "https://localhost:8080/"
        },
        "id": "yzeW-s7ZuWyT",
        "outputId": "90f02ac0-18ab-41c5-8725-7d1f1e013025"
      },
      "outputs": [
        {
          "data": {
            "text/plain": [
              "['MovieName', 'Genre', 'Actor', 'Director']"
            ]
          },
          "execution_count": 10,
          "metadata": {},
          "output_type": "execute_result"
        }
      ],
      "source": [
        "# selection of unique features\n",
        "\n",
        "unique_features = ['MovieName','Genre','Actor','Director']\n",
        "unique_features"
      ]
    },
    {
      "cell_type": "markdown",
      "metadata": {
        "id": "17Ca4HokuWyU"
      },
      "source": [
        "while the current dataset does not have any null values, we need to fill null values in case we decide to use someother dataset in the future"
      ]
    },
    {
      "cell_type": "code",
      "execution_count": 11,
      "metadata": {
        "colab": {
          "base_uri": "https://localhost:8080/"
        },
        "id": "dqa_-AFruWyU",
        "outputId": "37afe250-4f93-4f6e-88de-34a9f48de247"
      },
      "outputs": [
        {
          "name": "stdout",
          "output_type": "stream",
          "text": [
            "No NAN values found in 'MovieName'.\n",
            "No NAN values found in 'Genre'.\n",
            "No NAN values found in 'Actor'.\n",
            "No NAN values found in 'Director'.\n"
          ]
        }
      ],
      "source": [
        "# if any null value is found it will be filled with 'No information available'\n",
        "\n",
        "for feature in unique_features:\n",
        "    #counting the nan before we fill it\n",
        "    before_nan = data_movies[feature].isna().sum()\n",
        "    if before_nan > 0:\n",
        "        data_movies[feature] = data_movies[feature].fillna('No information available')\n",
        "        print(f\"Filled {before_nan} NAN values in '{feature}' with 'No information available'.\")\n",
        "    else:\n",
        "        print(f\"No NAN values found in '{feature}'.\")\n"
      ]
    },
    {
      "cell_type": "code",
      "execution_count": 12,
      "metadata": {
        "colab": {
          "base_uri": "https://localhost:8080/"
        },
        "id": "pdWzHYT3uWyU",
        "outputId": "5cf879c5-7cef-4fd1-8aea-c31088c6c49b"
      },
      "outputs": [
        {
          "data": {
            "text/plain": [
              "0             Mouna Guru Action Arulnithi Santha Kumar\n",
              "1            7 Aum Arivu Action Suriya A.R. Murugadoss\n",
              "2            Vaagai Sooda Vaa Comedy Vimal A. Sarkunam\n",
              "3            Mankatha Action Ajith Kumar Venkat Prabhu\n",
              "4    Kanchana: Muni 2 Comedy Lawrence Raghavendra L...\n",
              "dtype: object"
            ]
          },
          "execution_count": 12,
          "metadata": {},
          "output_type": "execute_result"
        }
      ],
      "source": [
        "# combining the features\n",
        "feature_combined = data_movies['MovieName'] +  \" \"+ data_movies['Genre'] +  \" \"+ data_movies['Actor'] +  \" \"+ data_movies['Director']\n",
        "feature_combined.head()"
      ]
    },
    {
      "cell_type": "code",
      "execution_count": 13,
      "metadata": {
        "colab": {
          "base_uri": "https://localhost:8080/"
        },
        "id": "xG0CwDljuWyU",
        "outputId": "dc0dbde9-bd6e-4553-e833-3061a7c7a211"
      },
      "outputs": [
        {
          "name": "stdout",
          "output_type": "stream",
          "text": [
            "Shape of Feature Vector:  (329, 1013)\n"
          ]
        }
      ],
      "source": [
        "# Vectorizing the combined features\n",
        "\n",
        "tf_vector = TfidfVectorizer()\n",
        "feature_vect = tf_vector.fit_transform(feature_combined)\n",
        "print(\"Shape of Feature Vector: \",feature_vect.shape)\n",
        "\n"
      ]
    },
    {
      "cell_type": "code",
      "execution_count": 14,
      "metadata": {
        "colab": {
          "base_uri": "https://localhost:8080/"
        },
        "id": "jKb2TtW9uWyV",
        "outputId": "1959b12c-0f22-4fa2-eb82-7214b0c8cdc6"
      },
      "outputs": [
        {
          "name": "stdout",
          "output_type": "stream",
          "text": [
            "The Similarity matrix shape:  (329, 329)\n"
          ]
        }
      ],
      "source": [
        "# Now calculting the cosine similarity\n",
        "cos_similar = cosine_similarity(feature_vect)\n",
        "print(\"The Similarity matrix shape: \", cos_similar.shape)\n"
      ]
    },
    {
      "cell_type": "code",
      "execution_count": 15,
      "metadata": {},
      "outputs": [],
      "source": [
        "def user_input():\n",
        "    # Handling the user input for the favorite movie\n",
        "    user_movieName = input(\"Enter the name of your favorite movie: \")\n",
        "    return user_movieName"
      ]
    },
    {
      "cell_type": "code",
      "execution_count": 16,
      "metadata": {},
      "outputs": [
        {
          "name": "stdout",
          "output_type": "stream",
          "text": [
            "Did you mean: ['Theri', 'Thiri', 'Thegidi']?\n",
            "Index of your favorite movie:  97\n",
            "Suggesting similar movies for you: \n",
            "1. Mersal - Similarity: 65.69%\n",
            "2. Bigil - Similarity: 65.69%\n",
            "3. Uriyadi - Similarity: 38.58%\n",
            "4. Uriyadi 2 - Similarity: 38.58%\n",
            "5. Thuppakki - Similarity: 34.32%\n",
            "6. Kaththi - Similarity: 32.86%\n",
            "7. Sarkar - Similarity: 32.86%\n",
            "8. Raja Rani - Similarity: 32.65%\n",
            "9. Bairavaa - Similarity: 30.94%\n",
            "10. Sindhubaadh - Similarity: 22.55%\n",
            "11. Watchman - Similarity: 19.14%\n",
            "12. Goli Soda - Similarity: 17.94%\n",
            "13. 96 - Similarity: 17.65%\n",
            "14. Pannaiyarum Padminiyum - Similarity: 16.27%\n",
            "15. Papanasam - Similarity: 16.21%\n",
            "16. 24 - Similarity: 14.34%\n",
            "17. Veeram - Similarity: 13.40%\n",
            "18. Vivegam - Similarity: 13.40%\n",
            "19. Viswasam - Similarity: 13.40%\n",
            "20. Vanamagan - Similarity: 13.08%\n"
          ]
        }
      ],
      "source": [
        "\n",
        "\n",
        "def movie_recomm(user_movieName, all_titles_list, data_movies, cos_similar):\n",
        "    search_close_match = difflib.get_close_matches(user_movieName, all_titles_list, n=5)\n",
        "    if not search_close_match:\n",
        "        print(\"No close matches found! Please check your input and either try again or try a different movie.\")\n",
        "    else:\n",
        "        print(f'Did you mean: {search_close_match}?')\n",
        "        user_res = input('Enter your input: Yes or No  ')\n",
        "        if user_res in ('Yes', 'yes', 'y', 'Y'):\n",
        "            close_match = search_close_match[0]\n",
        "            index_movie = data_movies[data_movies.MovieName == close_match].index.values[0]\n",
        "            print(\"Index of your favorite movie: \", index_movie)\n",
        "            # finding movies similar to the chosen one by the user\n",
        "            similar_score = list(enumerate(cos_similar[index_movie]))\n",
        "            sorted_similar_mov = sorted(similar_score, key=lambda x: x[1], reverse=True)\n",
        "\n",
        "            # displaying similar movies with similarity percentages\n",
        "            print(\"Suggesting similar movies for you: \")\n",
        "            a = 1\n",
        "            for movie in sorted_similar_mov[1:21]:  # Skip the first as it is the movie itself with 100% similarity\n",
        "                index = movie[0]\n",
        "                similarity_percentage = movie[1] * 100  # Convert fraction to percentage\n",
        "                title_fr_index = data_movies.at[index, \"MovieName\"]\n",
        "                print(f\"{a}. {title_fr_index} - Similarity: {similarity_percentage:.2f}%\")\n",
        "                a += 1\n",
        "        else:\n",
        "            print(\"Sorry! Try again.\")\n",
        "\n",
        "# main\n",
        "user_movie = user_input()\n",
        "movie_recomm(user_movie, all_titles_list, data_movies, cos_similar)\n"
      ]
    },
    {
      "cell_type": "markdown",
      "metadata": {
        "id": "1pM0a-NvyM5d"
      },
      "source": []
    },
    {
      "cell_type": "code",
      "execution_count": 19,
      "metadata": {
        "id": "4BoxY7O3wEWY"
      },
      "outputs": [],
      "source": [
        "### Create a Pickle file using serialization \n",
        "import pickle\n",
        "pickle_out = open(\"movie_recomm.pkl\",\"wb\")\n",
        "pickle.dump(movie_recomm, pickle_out)\n",
        "pickle_out.close()"
      ]
    },
    {
      "cell_type": "code",
      "execution_count": null,
      "metadata": {
        "id": "ks-i_r7fwEaN"
      },
      "outputs": [],
      "source": []
    },
    {
      "cell_type": "code",
      "execution_count": null,
      "metadata": {
        "id": "ZLRPrsm6uWyV"
      },
      "outputs": [],
      "source": []
    }
  ],
  "metadata": {
    "accelerator": "GPU",
    "colab": {
      "gpuType": "T4",
      "provenance": []
    },
    "kernelspec": {
      "display_name": "Python 3",
      "name": "python3"
    },
    "language_info": {
      "codemirror_mode": {
        "name": "ipython",
        "version": 3
      },
      "file_extension": ".py",
      "mimetype": "text/x-python",
      "name": "python",
      "nbconvert_exporter": "python",
      "pygments_lexer": "ipython3",
      "version": "3.11.0"
    }
  },
  "nbformat": 4,
  "nbformat_minor": 0
}
