{
 "cells": [
  {
   "cell_type": "markdown",
   "metadata": {},
   "source": [
    "# Assignment 1:\n",
    "\n",
    "\n",
    "# Master of Analytics \n",
    "\n",
    "# 158.739 Introduction to Analytics\n",
    "\n",
    "\n",
    "### Name : Ananya Krithika Thyagarajan"
   ]
  },
  {
   "cell_type": "markdown",
   "metadata": {
    "toc": true
   },
   "source": [
    "<h1>Table of Contents<span class=\"tocSkip\"></span></h1>\n",
    "<div class=\"toc\"><ul class=\"toc-item\"><li><span><a href=\"#Assignment-1:\" data-toc-modified-id=\"Assignment-1:-1\">Assignment 1:</a></span></li><li><span><a href=\"#Master-of-Analytics\" data-toc-modified-id=\"Master-of-Analytics-2\">Master of Analytics</a></span></li><li><span><a href=\"#158.739-Introduction-to-Analytics\" data-toc-modified-id=\"158.739-Introduction-to-Analytics-3\">158.739 Introduction to Analytics</a></span><ul class=\"toc-item\"><li><ul class=\"toc-item\"><li><span><a href=\"#Name-:-Ananya-Krithika-Thyagarajan\" data-toc-modified-id=\"Name-:-Ananya-Krithika-Thyagarajan-3.0.1\">Name : Ananya Krithika Thyagarajan</a></span></li></ul></li></ul></li><li><span><a href=\"#1-)-Aknowledgement\" data-toc-modified-id=\"1-)-Aknowledgement-4\">1 ) Aknowledgement</a></span></li><li><span><a href=\"#2-)-Executive-Summary:\" data-toc-modified-id=\"2-)-Executive-Summary:-5\">2 ) Executive Summary:</a></span></li><li><span><a href=\"#3-)-List-of-Tables:\" data-toc-modified-id=\"3-)-List-of-Tables:-6\">3 ) List of Tables:</a></span></li><li><span><a href=\"#4-)-List-of-Graphs:\" data-toc-modified-id=\"4-)-List-of-Graphs:-7\">4 ) List of Graphs:</a></span></li><li><span><a href=\"#5-)-Introduction\" data-toc-modified-id=\"5-)-Introduction-8\">5 ) Introduction</a></span></li><li><span><a href=\"#6-)-Problem-Statement:\" data-toc-modified-id=\"6-)-Problem-Statement:-9\">6 ) Problem Statement:</a></span></li><li><span><a href=\"#7-)-Data-Wrangling-and-Cleaning\" data-toc-modified-id=\"7-)-Data-Wrangling-and-Cleaning-10\">7 ) Data Wrangling and Cleaning</a></span></li><li><span><a href=\"#8-)-Data-Integration\" data-toc-modified-id=\"8-)-Data-Integration-11\">8 ) Data Integration</a></span></li><li><span><a href=\"#9-)-Data-Analysis-and-Vizualization\" data-toc-modified-id=\"9-)-Data-Analysis-and-Vizualization-12\">9 ) Data Analysis and Vizualization</a></span><ul class=\"toc-item\"><li><ul class=\"toc-item\"><li><span><a href=\"#1.------------Total-Population-against-the--number-of-married-couple-and-the-age-of-the-people-in-singapore-during-the-period-1998-to-2019.\" data-toc-modified-id=\"1.------------Total-Population-against-the--number-of-married-couple-and-the-age-of-the-people-in-singapore-during-the-period-1998-to-2019.-12.0.1\">1.            Total Population against the  number of married couple and the age of the people in singapore during the period 1998 to 2019.</a></span><ul class=\"toc-item\"><li><span><a href=\"#Interpretation:\" data-toc-modified-id=\"Interpretation:-12.0.1.1\">Interpretation:</a></span></li></ul></li><li><span><a href=\"#2.------------Marriage-Trends-in-singapore-during-the-period-1998-to-2019.\" data-toc-modified-id=\"2.------------Marriage-Trends-in-singapore-during-the-period-1998-to-2019.-12.0.2\">2.            Marriage Trends in singapore during the period 1998 to 2019.</a></span></li><li><span><a href=\"#2.1-----------Marriage-rates-in-singapore-during-the-period-1998-to-2019.\" data-toc-modified-id=\"2.1-----------Marriage-rates-in-singapore-during-the-period-1998-to-2019.-12.0.3\">2.1           Marriage rates in singapore during the period 1998 to 2019.</a></span><ul class=\"toc-item\"><li><span><a href=\"#Interpretation:\" data-toc-modified-id=\"Interpretation:-12.0.3.1\">Interpretation:</a></span></li></ul></li><li><span><a href=\"#2.2-----------Median-age-of-the-Brides-and-the-Grooms-in-singapore-during-the-period-1998-to-2019.\" data-toc-modified-id=\"2.2-----------Median-age-of-the-Brides-and-the-Grooms-in-singapore-during-the-period-1998-to-2019.-12.0.4\">2.2           Median age of the Brides and the Grooms in singapore during the period 1998 to 2019.</a></span><ul class=\"toc-item\"><li><span><a href=\"#Interpretation:\" data-toc-modified-id=\"Interpretation:-12.0.4.1\">Interpretation:</a></span></li></ul></li><li><span><a href=\"#3.------------Divorce-Trends-in-singapore-during-the-period-1998-to-2019.\" data-toc-modified-id=\"3.------------Divorce-Trends-in-singapore-during-the-period-1998-to-2019.-12.0.5\">3.            Divorce Trends in singapore during the period 1998 to 2019.</a></span></li><li><span><a href=\"#3.1-----------Divorce-rates-in-singapore-during-the-period-1998-to-2019.\" data-toc-modified-id=\"3.1-----------Divorce-rates-in-singapore-during-the-period-1998-to-2019.-12.0.6\">3.1           Divorce rates in singapore during the period 1998 to 2019.</a></span><ul class=\"toc-item\"><li><span><a href=\"#Interpretation:\" data-toc-modified-id=\"Interpretation:-12.0.6.1\">Interpretation:</a></span></li></ul></li><li><span><a href=\"#3.2---------Male-and-Female--Divorcee--in-singapore-during-the-period-1998-to-2019.\" data-toc-modified-id=\"3.2---------Male-and-Female--Divorcee--in-singapore-during-the-period-1998-to-2019.-12.0.7\">3.2         Male and Female  Divorcee  in singapore during the period 1998 to 2019.</a></span><ul class=\"toc-item\"><li><span><a href=\"#Interpretation:\" data-toc-modified-id=\"Interpretation:-12.0.7.1\">Interpretation:</a></span></li></ul></li><li><span><a href=\"#3.3---------Key-factors-of--Divorce--in-singapore-during-the-period-1998-to-2019.\" data-toc-modified-id=\"3.3---------Key-factors-of--Divorce--in-singapore-during-the-period-1998-to-2019.-12.0.8\">3.3         Key factors of  Divorce  in singapore during the period 1998 to 2019.</a></span><ul class=\"toc-item\"><li><span><a href=\"#Interpretation:\" data-toc-modified-id=\"Interpretation:-12.0.8.1\">Interpretation:</a></span></li></ul></li><li><span><a href=\"#3.4---------Possible-reasons-for-Divorce--in-singapore-during-the-period-1998-to-2019.\" data-toc-modified-id=\"3.4---------Possible-reasons-for-Divorce--in-singapore-during-the-period-1998-to-2019.-12.0.9\">3.4         Possible reasons for Divorce  in singapore during the period 1998 to 2019.</a></span></li></ul></li></ul></li><li><span><a href=\"#10-)-Key-Findings:\" data-toc-modified-id=\"10-)-Key-Findings:-13\">10 ) Key Findings:</a></span></li><li><span><a href=\"#11-)-Conclusion\" data-toc-modified-id=\"11-)-Conclusion-14\">11 ) Conclusion</a></span></li><li><span><a href=\"#12-)-Reference:\" data-toc-modified-id=\"12-)-Reference:-15\">12 ) Reference:</a></span></li></ul></div>"
   ]
  },
  {
   "cell_type": "markdown",
   "metadata": {},
   "source": [
    "# 1 ) Aknowledgement\n",
    "\n",
    "I would like to thank my teacher Dr. Teo Susnjak for giving me this opportunity to work on this assignment. I was able to gain better understanding of Python and its analytical applications. It also has given me the confidence to explore and play around with data which has given me immense satisfaction and a great learning experience. "
   ]
  },
  {
   "cell_type": "markdown",
   "metadata": {},
   "source": [
    "# 2 ) Executive Summary:\n",
    "\n",
    "\n",
    "It has been noted that the divorce rates in Singapore has been doubled since the year 1980. One main reason for this trend was the culture that prioritized individual happiness over the tradional values. The social stigma that used to surround the separation of a couple became less prominent. This study has been carried out, in order to understand which generation contributes more to the divorce rates in Singapore. The main objective of this study was to find out which generation - Millennials or Gen X has higher divorce rates in Singapore in the last 20 years. This study was completely based on Python Jupyter Notebooks. This study found out that the Millennials are divorcing less and the major contribution to the divorce trend is done by the older generation that is the Gen X in the last 20 years.\n",
    "\n",
    "\n"
   ]
  },
  {
   "cell_type": "markdown",
   "metadata": {},
   "source": [
    "# 3 ) List of Tables:\n",
    "\n",
    "Table 1.0   : Merged dataset with relevant variables\n",
    "\n",
    "Table 1.1   : Average number of marriages and the age of the population\n",
    "\n",
    "Table 2.1.0 : Dataset with relevant variables.  \n",
    "\n",
    "Table 2.1.1 : Marriage rate of the Millennials\n",
    "\n",
    "Table 2.1.2 : Marriage rate of the Gen X\n",
    "\n",
    "Table 2.2.0 : The Main Dataset\n",
    "\n",
    "Table 2.2.1 : Median age of the grooms and brides-not considering the type \n",
    "\n",
    "Table 2.2.2 : Median age of the grooms and brides-considering the type \n",
    "\n",
    "Table 3.1.0 : The Dataset of the Divorce rate\n",
    "\n",
    "Table 3.1.1 : The Divorce rates of Millennials\n",
    "\n",
    "Table 3.1.2 : The Divorce rates of Gen X \n",
    "\n",
    "Table 3.2.0 : The Dataset of the age group and sex of Divorcees\n",
    "\n",
    "Table 3.2.1 : The Millennial Divorcees    \n",
    "\n",
    "Table 3.2.2 : The Generation X Divorcees \n",
    "\n",
    "Table 3.2.3 : The Median age of the male and female divorcees at the time of    divorce\n",
    "\n",
    "Table 3.3.0 : The Dataset of key indicators of divorce \n",
    "\n",
    "Table 3.3.1 : The Key factors of divorce    \n"
   ]
  },
  {
   "cell_type": "markdown",
   "metadata": {},
   "source": [
    "# 4 ) List of Graphs:\n",
    "\n",
    "Graph 1.0: Total Population and marriages\n",
    "\n",
    "Graph 1.1: Total Marriages and Median Age of the Population\n",
    "\n",
    "Graph 2.1.0: Total Marriage rates of Male and Female\n",
    "\n",
    "Graph 2.1.1: Marriage rates of Millennials-Males\n",
    "\n",
    "Graph 2.1.2: Marriage rates of Millennials-Females\n",
    "\n",
    "Graph 2.1.3: Marriage rates of Generation X -Males \n",
    "\n",
    "Graph 2.1.4: Marriage rates of Generation X -Females\n",
    "\n",
    "Graph 2.2.0: Median age of the Groom and Bride irrespective of the type of marriage(First/Remarriage)\n",
    "\n",
    "Graph 2.2.1: Median age of the Groom and Bride with respect to the type of marriage(First/remarriage)\n",
    "\n",
    "Graph 3.1.0: Total Divorce rates of Male and Female \n",
    "\n",
    "Graph 3.1.1: Divorce rates of Millennials-Males\n",
    "\n",
    "Graph 3.1.2: Divorce rates of Millennials-Females\n",
    "\n",
    "Graph 3.1.3: Divorce rates of Generation X -Males\n",
    "\n",
    "Graph 3.1.4: Divorce rates of Generation X -Females\n",
    "\n",
    "Graph 3.2.0: Median Age of Male and female divorcees at the time of divorce\n",
    "\n",
    "Graph 3.2.1: Total Divorce  of male and female    \n",
    "\n",
    "Graph 3.2.2: Millennial Males Divorcees    \n",
    "\n",
    "Graph 3.2.3: Millennial Females Divorcees  \n",
    "\n",
    "Graph 3.2.4: Gen X Males Divorcees\n",
    "\n",
    "Graph 3.2.5: Gen X Females Divorcees   \n",
    "\n",
    "Graph 3.3.0: Total divorce during the study period\n",
    "\n",
    "Graph 3.3.1: Key Factors of divorce    \n",
    "    "
   ]
  },
  {
   "cell_type": "markdown",
   "metadata": {},
   "source": [
    "# 5 ) Introduction\n",
    "\n",
    "It has been noted that the divorce rates in Singapore has been doubled since the year 1980. One main reason for this trend was the culture that prioritized individual happiness over the tradional values.\n",
    "The social stigma that used to surround the separation of a couple became less prominent.\n",
    "\n",
    "This study has been carried out, in order to understand which generation contributes more to the divorce rates in Singapore."
   ]
  },
  {
   "cell_type": "markdown",
   "metadata": {},
   "source": [
    "# 6 ) Problem Statement:\n",
    "\n",
    "**Assumption:** For the purpose of this study, it has been assumed that the age group of the Millennials will be aged from 15 to 39 years and the  Generation X (Gen X) will be aged 40 years and over.\n",
    "\n",
    "**Objective**\n",
    "\n",
    "There is a general belief that inspite of experiencing an upward trend in divorce, the Singaporean Millennials are divorcing lesser than the Gen X.\n",
    "\n",
    "Hence, the main objective of this study is to find out which generation - Millennials or Gen X has higher divorce rates in Singapore in the last 20 years.\n",
    "\n",
    "**Methodology**\n",
    "\n",
    "Methodology is highly essential as it is the blueprint for the collection, measurement and analysis of data in order to get answers to solve the problem statement.\n",
    "The methodology that was used for this study has been classified into the following:\n",
    "\n",
    "*a. Sample Size of the time period:*\n",
    "\n",
    "For the purpose of this study, all the datasets that were used are within the time frame of 20 years that is from the year 1998 to 2019. \n",
    "\n",
    "*b. Method of data collection*\n",
    "\n",
    "For the purpose of this study, additional secendory data has been used along with the dataset that was provided at the start of the study.\n",
    "\n",
    "*c. Tool of analysis*\n",
    "\n",
    "This study is completely based on Python Jupyter Notebooks"
   ]
  },
  {
   "cell_type": "markdown",
   "metadata": {},
   "source": [
    "# 7 ) Data Wrangling and Cleaning"
   ]
  },
  {
   "cell_type": "code",
   "execution_count": 1,
   "metadata": {
    "ExecuteTime": {
     "end_time": "2023-11-03T21:33:01.784135Z",
     "start_time": "2023-11-03T21:32:59.029758Z"
    }
   },
   "outputs": [],
   "source": [
    "import warnings\n",
    "warnings.simplefilter(action='ignore', category=FutureWarning)\n",
    "import plotly.express as px # plotly library is extensively used for interactive visualization\n",
    "import pandas as pd\n",
    "import numpy as np\n",
    "import matplotlib.pyplot as plt\n",
    "#this line the plots to be embedded into the notebook\n",
    "%matplotlib inline\n",
    "\n",
    "from pylab import rcParams\n",
    "rcParams['figure.figsize'] = 5,10\n",
    "pd.set_option('display.max_rows', 500)\n",
    "pd.set_option('display.max_columns', 500)\n",
    "pd.set_option('display.width', 1000)"
   ]
  },
  {
   "cell_type": "code",
   "execution_count": 2,
   "metadata": {
    "ExecuteTime": {
     "end_time": "2023-11-03T21:33:02.241294Z",
     "start_time": "2023-11-03T21:33:01.786132Z"
    },
    "scrolled": false
   },
   "outputs": [
    {
     "ename": "FileNotFoundError",
     "evalue": "[Errno 2] No such file or directory: '../datasets/population_structure.xlsx'",
     "output_type": "error",
     "traceback": [
      "\u001b[1;31m---------------------------------------------------------------------------\u001b[0m",
      "\u001b[1;31mFileNotFoundError\u001b[0m                         Traceback (most recent call last)",
      "\u001b[1;32m<ipython-input-2-746954b6895a>\u001b[0m in \u001b[0;36m<module>\u001b[1;34m\u001b[0m\n\u001b[0;32m      2\u001b[0m \u001b[1;33m\u001b[0m\u001b[0m\n\u001b[0;32m      3\u001b[0m \u001b[1;31m#Raw data\u001b[0m\u001b[1;33m\u001b[0m\u001b[1;33m\u001b[0m\u001b[1;33m\u001b[0m\u001b[0m\n\u001b[1;32m----> 4\u001b[1;33m \u001b[0mpopulation\u001b[0m \u001b[1;33m=\u001b[0m \u001b[0mpd\u001b[0m\u001b[1;33m.\u001b[0m\u001b[0mread_excel\u001b[0m\u001b[1;33m(\u001b[0m\u001b[1;34m'../datasets/population_structure.xlsx'\u001b[0m\u001b[1;33m,\u001b[0m\u001b[0mheader\u001b[0m\u001b[1;33m=\u001b[0m \u001b[1;32mNone\u001b[0m\u001b[1;33m)\u001b[0m\u001b[1;33m\u001b[0m\u001b[1;33m\u001b[0m\u001b[0m\n\u001b[0m\u001b[0;32m      5\u001b[0m \u001b[0mpopulation\u001b[0m\u001b[1;33m\u001b[0m\u001b[1;33m\u001b[0m\u001b[0m\n\u001b[0;32m      6\u001b[0m \u001b[1;31m#population.tail()\u001b[0m\u001b[1;33m\u001b[0m\u001b[1;33m\u001b[0m\u001b[1;33m\u001b[0m\u001b[0m\n",
      "\u001b[1;32m~\\anaconda3\\lib\\site-packages\\pandas\\util\\_decorators.py\u001b[0m in \u001b[0;36mwrapper\u001b[1;34m(*args, **kwargs)\u001b[0m\n\u001b[0;32m    309\u001b[0m                     \u001b[0mstacklevel\u001b[0m\u001b[1;33m=\u001b[0m\u001b[0mstacklevel\u001b[0m\u001b[1;33m,\u001b[0m\u001b[1;33m\u001b[0m\u001b[1;33m\u001b[0m\u001b[0m\n\u001b[0;32m    310\u001b[0m                 )\n\u001b[1;32m--> 311\u001b[1;33m             \u001b[1;32mreturn\u001b[0m \u001b[0mfunc\u001b[0m\u001b[1;33m(\u001b[0m\u001b[1;33m*\u001b[0m\u001b[0margs\u001b[0m\u001b[1;33m,\u001b[0m \u001b[1;33m**\u001b[0m\u001b[0mkwargs\u001b[0m\u001b[1;33m)\u001b[0m\u001b[1;33m\u001b[0m\u001b[1;33m\u001b[0m\u001b[0m\n\u001b[0m\u001b[0;32m    312\u001b[0m \u001b[1;33m\u001b[0m\u001b[0m\n\u001b[0;32m    313\u001b[0m         \u001b[1;32mreturn\u001b[0m \u001b[0mwrapper\u001b[0m\u001b[1;33m\u001b[0m\u001b[1;33m\u001b[0m\u001b[0m\n",
      "\u001b[1;32m~\\anaconda3\\lib\\site-packages\\pandas\\io\\excel\\_base.py\u001b[0m in \u001b[0;36mread_excel\u001b[1;34m(io, sheet_name, header, names, index_col, usecols, squeeze, dtype, engine, converters, true_values, false_values, skiprows, nrows, na_values, keep_default_na, na_filter, verbose, parse_dates, date_parser, thousands, comment, skipfooter, convert_float, mangle_dupe_cols, storage_options)\u001b[0m\n\u001b[0;32m    362\u001b[0m     \u001b[1;32mif\u001b[0m \u001b[1;32mnot\u001b[0m \u001b[0misinstance\u001b[0m\u001b[1;33m(\u001b[0m\u001b[0mio\u001b[0m\u001b[1;33m,\u001b[0m \u001b[0mExcelFile\u001b[0m\u001b[1;33m)\u001b[0m\u001b[1;33m:\u001b[0m\u001b[1;33m\u001b[0m\u001b[1;33m\u001b[0m\u001b[0m\n\u001b[0;32m    363\u001b[0m         \u001b[0mshould_close\u001b[0m \u001b[1;33m=\u001b[0m \u001b[1;32mTrue\u001b[0m\u001b[1;33m\u001b[0m\u001b[1;33m\u001b[0m\u001b[0m\n\u001b[1;32m--> 364\u001b[1;33m         \u001b[0mio\u001b[0m \u001b[1;33m=\u001b[0m \u001b[0mExcelFile\u001b[0m\u001b[1;33m(\u001b[0m\u001b[0mio\u001b[0m\u001b[1;33m,\u001b[0m \u001b[0mstorage_options\u001b[0m\u001b[1;33m=\u001b[0m\u001b[0mstorage_options\u001b[0m\u001b[1;33m,\u001b[0m \u001b[0mengine\u001b[0m\u001b[1;33m=\u001b[0m\u001b[0mengine\u001b[0m\u001b[1;33m)\u001b[0m\u001b[1;33m\u001b[0m\u001b[1;33m\u001b[0m\u001b[0m\n\u001b[0m\u001b[0;32m    365\u001b[0m     \u001b[1;32melif\u001b[0m \u001b[0mengine\u001b[0m \u001b[1;32mand\u001b[0m \u001b[0mengine\u001b[0m \u001b[1;33m!=\u001b[0m \u001b[0mio\u001b[0m\u001b[1;33m.\u001b[0m\u001b[0mengine\u001b[0m\u001b[1;33m:\u001b[0m\u001b[1;33m\u001b[0m\u001b[1;33m\u001b[0m\u001b[0m\n\u001b[0;32m    366\u001b[0m         raise ValueError(\n",
      "\u001b[1;32m~\\anaconda3\\lib\\site-packages\\pandas\\io\\excel\\_base.py\u001b[0m in \u001b[0;36m__init__\u001b[1;34m(self, path_or_buffer, engine, storage_options)\u001b[0m\n\u001b[0;32m   1189\u001b[0m                 \u001b[0mext\u001b[0m \u001b[1;33m=\u001b[0m \u001b[1;34m\"xls\"\u001b[0m\u001b[1;33m\u001b[0m\u001b[1;33m\u001b[0m\u001b[0m\n\u001b[0;32m   1190\u001b[0m             \u001b[1;32melse\u001b[0m\u001b[1;33m:\u001b[0m\u001b[1;33m\u001b[0m\u001b[1;33m\u001b[0m\u001b[0m\n\u001b[1;32m-> 1191\u001b[1;33m                 ext = inspect_excel_format(\n\u001b[0m\u001b[0;32m   1192\u001b[0m                     \u001b[0mcontent_or_path\u001b[0m\u001b[1;33m=\u001b[0m\u001b[0mpath_or_buffer\u001b[0m\u001b[1;33m,\u001b[0m \u001b[0mstorage_options\u001b[0m\u001b[1;33m=\u001b[0m\u001b[0mstorage_options\u001b[0m\u001b[1;33m\u001b[0m\u001b[1;33m\u001b[0m\u001b[0m\n\u001b[0;32m   1193\u001b[0m                 )\n",
      "\u001b[1;32m~\\anaconda3\\lib\\site-packages\\pandas\\io\\excel\\_base.py\u001b[0m in \u001b[0;36minspect_excel_format\u001b[1;34m(content_or_path, storage_options)\u001b[0m\n\u001b[0;32m   1068\u001b[0m         \u001b[0mcontent_or_path\u001b[0m \u001b[1;33m=\u001b[0m \u001b[0mBytesIO\u001b[0m\u001b[1;33m(\u001b[0m\u001b[0mcontent_or_path\u001b[0m\u001b[1;33m)\u001b[0m\u001b[1;33m\u001b[0m\u001b[1;33m\u001b[0m\u001b[0m\n\u001b[0;32m   1069\u001b[0m \u001b[1;33m\u001b[0m\u001b[0m\n\u001b[1;32m-> 1070\u001b[1;33m     with get_handle(\n\u001b[0m\u001b[0;32m   1071\u001b[0m         \u001b[0mcontent_or_path\u001b[0m\u001b[1;33m,\u001b[0m \u001b[1;34m\"rb\"\u001b[0m\u001b[1;33m,\u001b[0m \u001b[0mstorage_options\u001b[0m\u001b[1;33m=\u001b[0m\u001b[0mstorage_options\u001b[0m\u001b[1;33m,\u001b[0m \u001b[0mis_text\u001b[0m\u001b[1;33m=\u001b[0m\u001b[1;32mFalse\u001b[0m\u001b[1;33m\u001b[0m\u001b[1;33m\u001b[0m\u001b[0m\n\u001b[0;32m   1072\u001b[0m     ) as handle:\n",
      "\u001b[1;32m~\\anaconda3\\lib\\site-packages\\pandas\\io\\common.py\u001b[0m in \u001b[0;36mget_handle\u001b[1;34m(path_or_buf, mode, encoding, compression, memory_map, is_text, errors, storage_options)\u001b[0m\n\u001b[0;32m    708\u001b[0m         \u001b[1;32melse\u001b[0m\u001b[1;33m:\u001b[0m\u001b[1;33m\u001b[0m\u001b[1;33m\u001b[0m\u001b[0m\n\u001b[0;32m    709\u001b[0m             \u001b[1;31m# Binary mode\u001b[0m\u001b[1;33m\u001b[0m\u001b[1;33m\u001b[0m\u001b[1;33m\u001b[0m\u001b[0m\n\u001b[1;32m--> 710\u001b[1;33m             \u001b[0mhandle\u001b[0m \u001b[1;33m=\u001b[0m \u001b[0mopen\u001b[0m\u001b[1;33m(\u001b[0m\u001b[0mhandle\u001b[0m\u001b[1;33m,\u001b[0m \u001b[0mioargs\u001b[0m\u001b[1;33m.\u001b[0m\u001b[0mmode\u001b[0m\u001b[1;33m)\u001b[0m\u001b[1;33m\u001b[0m\u001b[1;33m\u001b[0m\u001b[0m\n\u001b[0m\u001b[0;32m    711\u001b[0m         \u001b[0mhandles\u001b[0m\u001b[1;33m.\u001b[0m\u001b[0mappend\u001b[0m\u001b[1;33m(\u001b[0m\u001b[0mhandle\u001b[0m\u001b[1;33m)\u001b[0m\u001b[1;33m\u001b[0m\u001b[1;33m\u001b[0m\u001b[0m\n\u001b[0;32m    712\u001b[0m \u001b[1;33m\u001b[0m\u001b[0m\n",
      "\u001b[1;31mFileNotFoundError\u001b[0m: [Errno 2] No such file or directory: '../datasets/population_structure.xlsx'"
     ]
    }
   ],
   "source": [
    "#POPULATION STRUCTURE\n",
    "\n",
    "#Raw data\n",
    "population = pd.read_excel('../datasets/population_structure.xlsx',header= None)\n",
    "population\n",
    "#population.tail()\n",
    "population.to_csv('../datasets/population_structure.csv')\n",
    "pd.read_csv('../datasets/population_structure.csv')\n",
    "population.head(30)\n",
    "pop_df = pd.read_csv('../datasets/population_structure.csv',usecols= [0,1,50,51,52,53,54,55,56,57,58,59,60,61,62,63,64,65,66,67,68,69,70,71])\n",
    "pop_df.dropna()\n",
    "\n",
    "#Cleaned data\n",
    "\n",
    "pop_df.dropna()\n",
    "population_df = pop_df.T\n",
    "population_df.dropna(axis='columns', inplace=True)\n",
    "population_df\n",
    "population_df.drop(['0','Unnamed: 0'], inplace = True)\n",
    "population_df\n",
    "population_df.columns =['Years','Total Population * (Number)', 'Resident Population *(Number)', 'Singapore Citizen Population * (Number) ', 'Permanent Resident Population * (Number)', 'Non-resident Population * (Number)','Total Population Growth * (Per Cent)','Resident Population Growth * (Per Cent)',\n",
    "                        'Population Density * (Total Population Per Square Kilometre)','Sex Ratio * (Males Per Thousand Females)','Median Age Of Resident Population * (Years)','Median Age Of Citizen Population * (Years)','Old-age Support Ratio: Residents Aged 15-64 Years * (Per Resident Aged 65 Years & Over)',\n",
    "                       'Age Dependency Ratio: Residents Aged Under 15 Years And 65 Years * (Per Hundred Residents Aged 15-64 Years)','Child Dependency Ratio: Residents Aged Under 15 Years * (Per Hundred Residents Aged 15-64 Years)','Old-age Dependency Ratio: Residents Aged 65 Years & Over * (Per Hundred Residents Aged 15-64 Years)',\n",
    "                       'Old-age Support Ratio: Residents Aged 20-64 Years * (Per Resident Aged 65 Years & Over)','Age Dependency Ratio: Residents Aged Under 20 Years And 65 Years & Over * (Per Hundred Residents Aged 20-64 Years)','Child Dependency Ratio: Residents Aged Under 20 Years * (Per Hundred Residents Aged 20-64 Years)',\n",
    "                       'Old-age Dependency Ratio: Residents Aged 65 Years & Over * (Per Hundred Residents Aged 20-64 Years)','Old-age Support Ratio: Citizens Aged 15-64 Years * (Per Citizen Aged 65 Years & Over)','Age Dependency Ratio: Citizens Aged Under 15 Years And 65 Years & Over * (Per Hundred Citizens Aged 15-64 Years)',\n",
    "                       'Child Dependency Ratio: Citizens Aged Under 15 Years * (Per Hundred Citizens Aged 15-64 Years)','Old-age Dependency Ratio: Citizens Aged 65 Years & Over * (Per Hundred Citizens Aged 15-64 Years)','Old-age Support Ratio: Citizens Aged 20-64 Years * (Per Citizen Aged 65 Years & Over)','Age Dependency Ratio: Citizens Aged Under 20 Years And 65 Years & Over * (Per Hundred Citizens Aged 20-64 Years)',\n",
    "                       'Child Dependency Ratio: Citizens Aged Under 20 Years * (Per Hundred Citizens Aged 20-64 Years)','Old-age Dependency Ratio: Citizens Aged 65 Years & Over * (Per Hundred Citizens Aged 20-64 Years)','Natural Increase * (Number)','Rate Of Natural Increase * (Per Thousand Residents)']\n",
    "\n",
    "population_df.reset_index(inplace=True)\n",
    "population_df\n",
    "population_df.drop(['index'],axis=1, inplace=True)\n",
    "population_df\n",
    "population_df.to_csv(\"../datasets/population_df.csv\")\n",
    "pop_struct = pd.read_csv(\"../datasets/population_df.csv\", index_col = 0)\n",
    "pop_struct"
   ]
  },
  {
   "cell_type": "code",
   "execution_count": null,
   "metadata": {
    "ExecuteTime": {
     "end_time": "2023-11-03T21:33:02.248348Z",
     "start_time": "2023-11-03T21:32:59.039Z"
    },
    "scrolled": false
   },
   "outputs": [],
   "source": [
    "\n",
    "#DIVORCE RATE\n",
    "\n",
    "#Raw data\n",
    "divorce_r = pd.read_excel('../datasets/Divorce Rates.xlsx', header= None)\n",
    "divorce_r\n",
    "divorce_r.to_csv('../datasets/Divorce Rates.csv')\n",
    "pd.read_csv('../datasets/Divorce Rates.csv')\n",
    "drate_df = pd.read_csv('../datasets/Divorce Rates.csv')\n",
    "drate_df.dropna()\n",
    "drate_df.head(10)\n",
    "\n",
    "#Cleaned data\n",
    "\n",
    "divrate_df = drate_df.T\n",
    "divrate_df\n",
    "divrate_df.dropna(axis='columns', inplace=True)\n",
    "new_header = divrate_df.iloc[1]\n",
    "divrate_df = divrate_df[2:]\n",
    "divrate_df.columns = new_header \n",
    "divrate_df\n",
    "divrate_df.columns = ['Years',\t'Male General Divorce Rate * (Per 1,000 Married Resident Aged 20 Years & Over)',\t'20 - 24 Years (Per 1,000 Married Resident Males)', \t'25 - 29 Years (Per 1,000 Married Resident Males)', \t'30 - 34 Years (Per 1,000 Married Resident Males)', \t'35 - 39 Years (Per 1,000 Married Resident Males)', \t'40 - 44 Years (Per 1,000 Married Resident Males)', \t'45 - 49 Years (Per 1,000 Married Resident Males)', \t'50 Years And Over (Per 1,000 Married Resident Males)', \t'Female General Divorce Rate * (Per 1,000 Married Resident Aged 20 Years & Over)',\t'20 - 24 Years (Per 1,000 Married Resident Females)',\t'25 - 29 Years (Per 1,000 Married Resident Females)',\t'30 - 34 Years (Per 1,000 Married Resident Females)',\t'35 - 39 Years (Per 1,000 Married Resident Females)',\t'40 - 44 Years (Per 1,000 Married Resident Females)',\t'45 - 49 Years (Per 1,000 Married Resident Females)',\t'50 Years And Over (Per 1,000 Married Resident Females)',\t'Crude Divorce Rate * (Per 1,000 Residents)']\n",
    "divrate_df\n",
    "divrate_df.to_csv(\"../datasets/divrate_df.csv\")\n",
    "divorce_rate = pd.read_csv(\"../datasets/divrate_df.csv\", index_col = 0)\n",
    "divorce_rate"
   ]
  },
  {
   "cell_type": "code",
   "execution_count": null,
   "metadata": {
    "ExecuteTime": {
     "end_time": "2023-11-03T21:33:02.249349Z",
     "start_time": "2023-11-03T21:32:59.045Z"
    },
    "scrolled": true
   },
   "outputs": [],
   "source": [
    "#MARRIAGE RATE BY AGE GROUP\n",
    "\n",
    "#Raw data\n",
    "mar_r = pd.read_excel('../datasets/Marriage_rates_by_age_group.xlsx', header= None)\n",
    "mar_r\n",
    "mar_r.to_csv('../datasets/Marriage_rates_by_age_group.csv')\n",
    "pd.read_csv('../datasets/Marriage_rates_by_age_group.csv')\n",
    "mrate_df = pd.read_csv('../datasets/Marriage_rates_by_age_group.csv')\n",
    "mrate_df.dropna()\n",
    "\n",
    "#Cleaned data\n",
    "\n",
    "mar_rate_df = mrate_df.T\n",
    "mar_rate_df\n",
    "mar_rate_df.dropna(axis= 'columns', inplace=True)\n",
    "mar_rate_df\n",
    "new_h2 = mar_rate_df.iloc[1]\n",
    "mar_rate_df = mar_rate_df[2:]\n",
    "mar_rate_df.columns = new_h2 \n",
    "mar_rate_df\n",
    "mar_rate_df.columns =['Years','Male General Marriage Rate * (Per 1,000 Unmarried Resident Males Aged 15-49)','15 - 19 Years (Per 1,000 Unmarried Resident Males)','20 - 24 Years (Per 1,000 Unmarried Resident Males)','25 - 29 Years (Per 1,000 Unmarried Resident Males)','30 - 34 Years (Per 1,000 Unmarried Resident Males)','35 - 39 Years (Per 1,000 Unmarried Resident Males)','40 - 44 Years (Per 1,000 Unmarried Resident Males)','45 - 49 Years (Per 1,000 Unmarried Resident Males)','50 - 54 Years (Per 1,000 Unmarried Resident Males)','55 - 59 Years (Per 1,000 Unmarried Resident Males)','60 - 64 Years * (Per 1,000 Unmarried Resident Males)','65 Years & Over (Per 1,000 Unmarried Resident Males)','Female General Marriage Rate * (Per 1,000 Unmarried Resident Females Aged 15-49)','15 - 19 Years (Per 1,000 Unmarried Resident Females)','20 - 24 Years (Per 1,000 Unmarried Resident Females)','25 - 29 Years (Per 1,000 Unmarried Resident Females)','30 - 34 Years (Per 1,000 Unmarried Resident Females)','35 - 39 Years (Per 1,000 Unmarried Resident Females)','40 - 44 Years (Per 1,000 Unmarried Resident Females)','45 - 49 Years (Per 1,000 Unmarried Resident Females)','50 - 54 Years (Per 1,000 Unmarried Resident Females)','55 - 59 Years (Per 1,000 Unmarried Resident Females)','60 - 64 Years * (Per 1,000 Unmarried Resident Females)','65 Years & Over (Per 1,000 Unmarried Resident Females)','Crude Marriage Rate * (Per 1,000 Residents)']\n",
    "\n",
    "mar_rate_df.to_csv(\"../datasets/mar_rate_df.csv\")\n",
    "marriage_rate_age_grp = pd.read_csv(\"../datasets/mar_rate_df.csv\", index_col = 0)\n",
    "marriage_rate_age_grp"
   ]
  },
  {
   "cell_type": "code",
   "execution_count": null,
   "metadata": {
    "ExecuteTime": {
     "end_time": "2023-11-03T21:33:02.250347Z",
     "start_time": "2023-11-03T21:32:59.049Z"
    },
    "scrolled": false
   },
   "outputs": [],
   "source": [
    "#KEY INDICATORS ON THE MARRIAGES\n",
    "\n",
    "#Raw data\n",
    "mar_k = pd.read_excel('../datasets/Key Indicators On Marriages.xlsx', header= None)\n",
    "mar_k\n",
    "mar_k.to_csv('../datasets/Key Indicators On Marriages.csv')\n",
    "pd.read_csv('../datasets/Key Indicators On Marriages.csv')\n",
    "mkey_df = pd.read_csv('../datasets/Key Indicators On Marriages.csv')\n",
    "mkey_df.dropna()\n",
    "\n",
    "#Cleaned data\n",
    "\n",
    "mar_key_df = mkey_df.T\n",
    "mar_key_df\n",
    "mar_key_df.dropna(axis= 'columns', inplace=True)\n",
    "mar_key_df\n",
    "new_h3 = mar_key_df.iloc[1]\n",
    "mar_key_df = mar_key_df[2:]\n",
    "mar_key_df.columns = new_h3 \n",
    "mar_key_df.drop(mar_key_df.index[0:23],inplace=True)\n",
    "mar_key_df\n",
    "mar_key_df.columns = [\"Years\", \"Total Marriages * (Number)\", \"First Marriages*(Number)\", \"Remarriages*(Number)\", \"Remarriages - One Partner*(Number)\", \"Remarriages - Both Partners*(Number)\", \"Resident Marriages*(Number)\", \"Proportion Of First Marriages - Grooms*(Per Cent)\", \"Proportion Of First Marriages - Brides*(Per Cent)\", \"Proportion Of Grooms Aged Below 21 Years (Per Cent)\", \"Under The Women's Charter (Per Cent)\", \"Under The Administration Of Muslim Law Act (Per Cent)\", \"Proportion Of Brides Aged Below 21 Years (Per Cent)\", \"Under The Women's Charter (Per Cent)\", \"Under The Administration Of Muslim Law Act (Per Cent)\", \"Proportion Of Inter-ethnic Marriages (Per Cent)\"]\n",
    "mar_key_df.reset_index(inplace=True)\n",
    "mar_key_df\n",
    "mar_key_df.drop(['index'],axis=1, inplace=True)\n",
    "mar_key_df\n",
    "mar_key_df.to_csv(\"../datasets/mar_key_df.csv\")\n",
    "marriage_key_indicator = pd.read_csv(\"../datasets/mar_key_df.csv\", index_col = 0)\n",
    "marriage_key_indicator"
   ]
  },
  {
   "cell_type": "code",
   "execution_count": null,
   "metadata": {
    "ExecuteTime": {
     "end_time": "2023-11-03T21:33:02.250347Z",
     "start_time": "2023-11-03T21:32:59.053Z"
    },
    "scrolled": true
   },
   "outputs": [],
   "source": [
    "\n",
    "#KEY INDICATORS ON THE DIVORCES\n",
    "\n",
    "#Raw data\n",
    "div_k = pd.read_excel('../datasets/Key Indicators On Divorces.xlsx', header= None)\n",
    "div_k\n",
    "div_k.to_csv('../datasets/Key Indicators On Divorces.csv')\n",
    "pd.read_csv('../datasets/Key Indicators On Divorces.csv')\n",
    "dkey_df = pd.read_csv('../datasets/Key Indicators On Divorces.csv')\n",
    "dkey_df.dropna()\n",
    "\n",
    "#Cleaned data\n",
    "\n",
    "d_key_df = dkey_df.T\n",
    "d_key_df\n",
    "d_key_df.dropna(axis= 'columns', inplace=True)\n",
    "d_key_df\n",
    "new_h4 = d_key_df.iloc[1]\n",
    "d_key_df = d_key_df[2:]\n",
    "d_key_df.columns = new_h4 \n",
    "d_key_df\n",
    "d_key_df.columns = [\"Years\",\"Total Divorces And Annulments (Number)\",\"Total Divorces (Number)\",\"Divorces Under The Women's Charter (Number)\",\"Divorces Under The Administration Of Muslim Law Act (Number)\",\"Annulments Under The Women's Charter (Number)\",\"Median Age Of Male Divorcees (Years)\",\"Under The Women's Charter (Years)\",\"Under The Administration Of Muslim Law Act (Years)\",\"Median Age Of Female Divorcees (Years)\",\"Under The Women's Charter (Years)\",\"Under The Administration Of Muslim Law Act (Years)\",\"Median Duration Of Marriage For Divorces (Years)\",\"Under The Women's Charter (Years)\",\"Under The Administration Of Muslim Law Act (Years)\",\"Median Duration Of Marriage For Annulments Under The Women's Charter (Years)\"]\n",
    "d_key_df\n",
    "d_key_df.to_csv(\"../datasets/d_key_df.csv\")\n",
    "divorce_key_indicator = pd.read_csv(\"../datasets/d_key_df.csv\", index_col = 0)\n",
    "divorce_key_indicator "
   ]
  },
  {
   "cell_type": "code",
   "execution_count": null,
   "metadata": {
    "ExecuteTime": {
     "end_time": "2023-11-03T21:33:02.251344Z",
     "start_time": "2023-11-03T21:32:59.058Z"
    },
    "scrolled": true
   },
   "outputs": [],
   "source": [
    "######  WOMAN'S CHARTER\n",
    "#AGE GROUP AND SEX OF DIVORCEES\n",
    "\n",
    "#Raw data\n",
    "age_gr_sx= pd.read_excel(\"../datasets/Women's Charter By Age Group And Sex Of Divorcees.xlsx\", header= None)\n",
    "age_gr_sx\n",
    "age_gr_sx.to_csv(\"../datasets/Women's Charter By Age Group And Sex Of Divorcees.csv\")\n",
    "pd.read_csv(\"../datasets/Women's Charter By Age Group And Sex Of Divorcees.csv\")\n",
    "agrp_sx_df = pd.read_csv(\"../datasets/Women's Charter By Age Group And Sex Of Divorcees.csv\")\n",
    "agrp_sx_df.dropna()\n",
    "\n",
    "#Cleaned data\n",
    "\n",
    "a_grp_sx_df = agrp_sx_df.T\n",
    "a_grp_sx_df\n",
    "a_grp_sx_df.dropna(axis= 'columns', inplace=True)\n",
    "a_grp_sx_df\n",
    "new_h6 = a_grp_sx_df.iloc[1]\n",
    "a_grp_sx_df = a_grp_sx_df[2:]\n",
    "a_grp_sx_df.columns = new_h6\n",
    "a_grp_sx_df\n",
    "a_grp_sx_df.columns = ['Years', 'Total Male Divorcees (Number)', 'Under 25 (Number)', '25-29 (Number)', '30-34 (Number)', '35-39 (Number)', '40-44 (Number)', '45-49 (Number)', '50-54 (Number)', '55-59 (Number)', '60 & Over (Number)', 'Unknown Age (Number)', 'Total Female Divorcees (Number)', 'Under 25 (Number)', '25-29 (Number)', '30-34 (Number)', '35-39 (Number)', '40-44 (Number)', '45-49 (Number)', '50-54 (Number)', '55-59 (Number)', '60 & Over (Number)', 'Unknown Age (Number)', 'Median Age At Divorce (Males) (Years)', 'Median Age At Divorce (Females) (Years)']\n",
    "a_grp_sx_df.to_csv(\"../datasets/a_grp_sx_df.csv\")\n",
    "age_grp_sex_of_divorcees = pd.read_csv(\"../datasets/a_grp_sx_df.csv\", index_col = 0)\n",
    "age_grp_sex_of_divorcees"
   ]
  },
  {
   "cell_type": "code",
   "execution_count": null,
   "metadata": {
    "ExecuteTime": {
     "end_time": "2023-11-03T21:33:02.252361Z",
     "start_time": "2023-11-03T21:32:59.062Z"
    },
    "scrolled": true
   },
   "outputs": [],
   "source": [
    "#Median age_of brides and grooms\n",
    "\n",
    "#Raw data\n",
    "med_a = pd.read_excel(\"../datasets/Median age_of brides and grooms.xlsx\", header=None)\n",
    "med_a\n",
    "med_a.to_csv(\"../datasets/Median age_of brides and grooms.csv\")\n",
    "pd.read_csv(\"../datasets/Median age_of brides and grooms.csv\")\n",
    "med_age_df = pd.read_csv(\"../datasets/Median age_of brides and grooms.csv\")\n",
    "med_age_df.dropna()\n",
    "\n",
    "#Cleaned data\n",
    "\n",
    "m_age_df = med_age_df.T\n",
    "m_age_df\n",
    "m_age_df.dropna(axis= 'columns', inplace=True)\n",
    "m_age_df\n",
    "new_h16 = m_age_df.iloc[1]\n",
    "m_age_df = m_age_df[2:]\n",
    "m_age_df.columns = new_h16\n",
    "m_age_df\n",
    "m_age_df.columns =['Years', 'Grooms - Total Marriages', 'Grooms - First Marriages', 'Grooms - Remarriages', 'Brides - Total Marriages', 'Brides - First Marriages', 'Brides - Remarriages'] \n",
    "m_age_df.to_csv(\"../datasets/m_age_df.csv\")\n",
    "median_age_bride_groom = pd.read_csv(\"../datasets/m_age_df.csv\", index_col = 0)\n",
    "median_age_bride_groom"
   ]
  },
  {
   "cell_type": "markdown",
   "metadata": {},
   "source": [
    "# 8 ) Data Integration"
   ]
  },
  {
   "cell_type": "code",
   "execution_count": null,
   "metadata": {
    "ExecuteTime": {
     "end_time": "2023-11-03T21:33:02.252361Z",
     "start_time": "2023-11-03T21:32:59.066Z"
    },
    "scrolled": false
   },
   "outputs": [],
   "source": [
    "#Population structure and marriages\n",
    "\n",
    "pop_struct_df= pop_struct[['Years','Total Population * (Number)','Median Age Of Resident Population * (Years)', 'Median Age Of Citizen Population * (Years)']]\n",
    "pop_struct_df\n",
    "mar_df= marriage_key_indicator[['Years', 'Total Marriages * (Number)']].loc[14:].copy()\n",
    "mar_df.reset_index(inplace=True)\n",
    "mar_df.drop(columns='index',inplace=True)\n",
    "mar_df\n",
    "\n",
    "#Merging the two dataframes\n",
    "\n",
    "pop_struct_mar= pd.merge(pop_struct_df,mar_df , how='inner', on= 'Years')\n",
    "pop_struct_mar\n",
    "pop_struct_mar.to_csv(\"../datasets/pop_struct_mar.csv\")\n",
    "pop_struct_marriage = pd.read_csv(\"../datasets/pop_struct_mar.csv\", index_col = 0)\n",
    "pop_struct_marriage\n"
   ]
  },
  {
   "cell_type": "code",
   "execution_count": null,
   "metadata": {
    "ExecuteTime": {
     "end_time": "2023-11-03T21:33:02.253353Z",
     "start_time": "2023-11-03T21:32:59.069Z"
    },
    "scrolled": true
   },
   "outputs": [],
   "source": [
    "# Marriage rates by age group\n",
    "\n",
    "marriage_rate_age_grp\n",
    "\n",
    "# SPLITTING THE DATAFRAME\n",
    "\n",
    "# For Millennials:\n",
    "\n",
    "mil_df = marriage_rate_age_grp[['Years', 'Male General Marriage Rate * (Per 1,000 Unmarried Resident Males Aged 15-49)', '15 - 19 Years (Per 1,000 Unmarried Resident Males)', '20 - 24 Years (Per 1,000 Unmarried Resident Males)', '25 - 29 Years (Per 1,000 Unmarried Resident Males)', '30 - 34 Years (Per 1,000 Unmarried Resident Males)', '35 - 39 Years (Per 1,000 Unmarried Resident Males)','Female General Marriage Rate * (Per 1,000 Unmarried Resident Females Aged 15-49)', '15 - 19 Years (Per 1,000 Unmarried Resident Females)', '20 - 24 Years (Per 1,000 Unmarried Resident Females)', '25 - 29 Years (Per 1,000 Unmarried Resident Females)',\n",
    "       '30 - 34 Years (Per 1,000 Unmarried Resident Females)', '35 - 39 Years (Per 1,000 Unmarried Resident Females)']].loc[19:].copy()\n",
    "mil_df.reset_index(inplace=True)\n",
    "mil_df.drop(columns='index',inplace=True)\n",
    "mil_df\n",
    "mil_df.to_csv(\"../datasets/mil_df.csv\")\n",
    "millennials_marriage_rate = pd.read_csv(\"../datasets/mil_df.csv\", index_col = 0)\n",
    "millennials_marriage_rate\n",
    "# Total marriage rate of male and female\n",
    "tot_mar_rate = millennials_marriage_rate[['Years', 'Male General Marriage Rate * (Per 1,000 Unmarried Resident Males Aged 15-49)','Female General Marriage Rate * (Per 1,000 Unmarried Resident Females Aged 15-49)']].copy()\n",
    "\n",
    "# Marriage rate of Millennials-Males\n",
    "mar_males_r = millennials_marriage_rate[['Years','15 - 19 Years (Per 1,000 Unmarried Resident Males)', '20 - 24 Years (Per 1,000 Unmarried Resident Males)', '25 - 29 Years (Per 1,000 Unmarried Resident Males)', '30 - 34 Years (Per 1,000 Unmarried Resident Males)', '35 - 39 Years (Per 1,000 Unmarried Resident Males)']].copy()\n",
    "mar_males_r\n",
    "\n",
    "# Marriage rate of Millennials-Females\n",
    "mar_females_r = millennials_marriage_rate[['Years','15 - 19 Years (Per 1,000 Unmarried Resident Females)', '20 - 24 Years (Per 1,000 Unmarried Resident Females)', '25 - 29 Years (Per 1,000 Unmarried Resident Females)', '30 - 34 Years (Per 1,000 Unmarried Resident Females)', '35 - 39 Years (Per 1,000 Unmarried Resident Females)']].copy()\n",
    "mar_females_r\n",
    "\n",
    "\n",
    "# For Gen X:\n",
    "\n",
    "genx_df = marriage_rate_age_grp[['Years','Male General Marriage Rate * (Per 1,000 Unmarried Resident Males Aged 15-49)','40 - 44 Years (Per 1,000 Unmarried Resident Males)', '45 - 49 Years (Per 1,000 Unmarried Resident Males)', '50 - 54 Years (Per 1,000 Unmarried Resident Males)', '55 - 59 Years (Per 1,000 Unmarried Resident Males)', '60 - 64 Years * (Per 1,000 Unmarried Resident Males)', '65 Years & Over (Per 1,000 Unmarried Resident Males)', 'Female General Marriage Rate * (Per 1,000 Unmarried Resident Females Aged 15-49)','40 - 44 Years (Per 1,000 Unmarried Resident Females)', '45 - 49 Years (Per 1,000 Unmarried Resident Females)', '50 - 54 Years (Per 1,000 Unmarried Resident Females)', '55 - 59 Years (Per 1,000 Unmarried Resident Females)', '60 - 64 Years * (Per 1,000 Unmarried Resident Females)', '65 Years & Over (Per 1,000 Unmarried Resident Females)']].loc[19:].copy()\n",
    "genx_df.reset_index(inplace=True)\n",
    "genx_df.drop(columns='index',inplace=True)\n",
    "genx_df\n",
    "genx_df.to_csv(\"../datasets/genx_df.csv\")\n",
    "gen_x_marriage_rate = pd.read_csv(\"../datasets/genx_df.csv\", index_col = 0)\n",
    "gen_x_marriage_rate\n",
    "\n",
    "# Marriage rate of Generation X -Males\n",
    "mar_males_r2 = gen_x_marriage_rate[['Years','40 - 44 Years (Per 1,000 Unmarried Resident Males)', '45 - 49 Years (Per 1,000 Unmarried Resident Males)', '50 - 54 Years (Per 1,000 Unmarried Resident Males)', '55 - 59 Years (Per 1,000 Unmarried Resident Males)', '60 - 64 Years * (Per 1,000 Unmarried Resident Males)', '65 Years & Over (Per 1,000 Unmarried Resident Males)']].copy()\n",
    "mar_males_r2\n",
    "\n",
    "# Marriage rate of Generation X -Females\n",
    "mar_females_r2 = gen_x_marriage_rate[['Years', '40 - 44 Years (Per 1,000 Unmarried Resident Females)', '45 - 49 Years (Per 1,000 Unmarried Resident Females)', '50 - 54 Years (Per 1,000 Unmarried Resident Females)', '55 - 59 Years (Per 1,000 Unmarried Resident Females)', '60 - 64 Years * (Per 1,000 Unmarried Resident Females)', '65 Years & Over (Per 1,000 Unmarried Resident Females)']].copy()\n",
    "mar_females_r2\n"
   ]
  },
  {
   "cell_type": "code",
   "execution_count": null,
   "metadata": {
    "ExecuteTime": {
     "end_time": "2023-11-03T21:33:02.254352Z",
     "start_time": "2023-11-03T21:32:59.073Z"
    }
   },
   "outputs": [],
   "source": [
    "#Median age of the brides and grooms\n",
    "\n",
    "median_age_bride_groom\n",
    "\n",
    "# SPLITTING THE DATAFRAME\n",
    "\n",
    "# Creating dataframe with the Age of the groom and the bride considering the total marriages- irrespective of the type\n",
    "tot_mar_age = median_age_bride_groom[['Years', 'Grooms - Total Marriages','Brides - Total Marriages']].loc[38:].copy() \n",
    "tot_mar_age.reset_index(inplace=True)\n",
    "tot_mar_age.drop(columns='index',inplace=True)\n",
    "tot_mar_age\n",
    "\n",
    "#Creating dataframe with the median age of the groom and bride with respect to their first and remarriage\n",
    "med_age_marriage_df = median_age_bride_groom[['Years','Grooms - First Marriages', 'Grooms - Remarriages','Brides - First Marriages', 'Brides - Remarriages']].loc[38:].copy()\n",
    "med_age_marriage_df.reset_index(inplace=True)\n",
    "med_age_marriage_df.drop(columns='index',inplace=True)\n",
    "med_age_marriage_df"
   ]
  },
  {
   "cell_type": "code",
   "execution_count": null,
   "metadata": {
    "ExecuteTime": {
     "end_time": "2023-11-03T21:33:02.255354Z",
     "start_time": "2023-11-03T21:32:59.076Z"
    }
   },
   "outputs": [],
   "source": [
    "# Divorce rates by age group\n",
    "\n",
    "divorce_rate\n",
    "\n",
    "# SPLITTING THE DATAFRAME\n",
    "\n",
    "# For Millennials : \n",
    "\n",
    "mil_df2 = divorce_rate[['Years', 'Male General Divorce Rate * (Per 1,000 Married Resident Aged 20 Years & Over)', '20 - 24 Years (Per 1,000 Married Resident Males)', '25 - 29 Years (Per 1,000 Married Resident Males)', '30 - 34 Years (Per 1,000 Married Resident Males)', '35 - 39 Years (Per 1,000 Married Resident Males)','Female General Divorce Rate * (Per 1,000 Married Resident Aged 20 Years & Over)', '20 - 24 Years (Per 1,000 Married Resident Females)', '25 - 29 Years (Per 1,000 Married Resident Females)', '30 - 34 Years (Per 1,000 Married Resident Females)', '35 - 39 Years (Per 1,000 Married Resident Females)']].loc[19:].copy()\n",
    "mil_df2.reset_index(inplace=True)\n",
    "mil_df2.drop(columns='index',inplace=True)\n",
    "mil_df2\n",
    "mil_df2.to_csv(\"../datasets/mil_df2.csv\")\n",
    "millennials_divorce_rate = pd.read_csv(\"../datasets/mil_df2.csv\", index_col = 0)\n",
    "millennials_divorce_rate \n",
    "\n",
    "# Total Divorce rate of male and female\n",
    "tot_div_rate= millennials_divorce_rate[['Years', 'Male General Divorce Rate * (Per 1,000 Married Resident Aged 20 Years & Over)','Female General Divorce Rate * (Per 1,000 Married Resident Aged 20 Years & Over)']].copy()\n",
    "tot_div_rate\n",
    "\n",
    "# Divorce rate of Millennials-Males\n",
    "div_males_r = millennials_divorce_rate[['Years','20 - 24 Years (Per 1,000 Married Resident Males)', '25 - 29 Years (Per 1,000 Married Resident Males)', '30 - 34 Years (Per 1,000 Married Resident Males)', '35 - 39 Years (Per 1,000 Married Resident Males)']].copy()\n",
    "div_males_r\n",
    "\n",
    "# Divorce rate of Millennials-Females\n",
    "div_females_r = millennials_divorce_rate[['Years','20 - 24 Years (Per 1,000 Married Resident Females)', '25 - 29 Years (Per 1,000 Married Resident Females)', '30 - 34 Years (Per 1,000 Married Resident Females)', '35 - 39 Years (Per 1,000 Married Resident Females)']].copy()\n",
    "div_females_r\n",
    "\n",
    "\n",
    "# For Gen X:\n",
    "\n",
    "genx_df2 = divorce_rate[['Years', 'Male General Divorce Rate * (Per 1,000 Married Resident Aged 20 Years & Over)','40 - 44 Years (Per 1,000 Married Resident Males)', '45 - 49 Years (Per 1,000 Married Resident Males)', '50 Years And Over (Per 1,000 Married Resident Males)', 'Female General Divorce Rate * (Per 1,000 Married Resident Aged 20 Years & Over)', '40 - 44 Years (Per 1,000 Married Resident Females)', '45 - 49 Years (Per 1,000 Married Resident Females)', '50 Years And Over (Per 1,000 Married Resident Females)']].loc[19:].copy()\n",
    "genx_df2.reset_index(inplace=True)\n",
    "genx_df2.drop(columns='index',inplace=True)\n",
    "genx_df2\n",
    "genx_df2.to_csv(\"../datasets/genx_df2.csv\")\n",
    "gen_x_divorce_rate = pd.read_csv(\"../datasets/genx_df2.csv\", index_col = 0) \n",
    "gen_x_divorce_rate\n",
    "\n",
    "# Divorce rate of Gen X-Males\n",
    "div_males_r2 = gen_x_divorce_rate[['Years','40 - 44 Years (Per 1,000 Married Resident Males)', '45 - 49 Years (Per 1,000 Married Resident Males)', '50 Years And Over (Per 1,000 Married Resident Males)']].copy()\n",
    "div_males_r2\n",
    "\n",
    "# Divorce rate of Gen X-Females\n",
    "div_females_r2 = gen_x_divorce_rate[['Years','40 - 44 Years (Per 1,000 Married Resident Females)', '45 - 49 Years (Per 1,000 Married Resident Females)', '50 Years And Over (Per 1,000 Married Resident Females)']].copy()\n",
    "div_females_r2"
   ]
  },
  {
   "cell_type": "code",
   "execution_count": null,
   "metadata": {
    "ExecuteTime": {
     "end_time": "2023-11-03T21:33:02.256355Z",
     "start_time": "2023-11-03T21:32:59.079Z"
    }
   },
   "outputs": [],
   "source": [
    "# Male and Female Divocees by age group\n",
    "\n",
    "age_grp_sex_of_divorcees\n",
    "\n",
    "# SPLITTING THE DATAFRAME\n",
    "\n",
    "# Median Age of Male and female divorcees at the time of divorce\n",
    "med_age_div = age_grp_sex_of_divorcees[['Years','Median Age At Divorce (Males) (Years)', 'Median Age At Divorce (Females) (Years)']].loc[19:].copy()\n",
    "med_age_div\n",
    "med_age_div.reset_index(inplace=True)\n",
    "med_age_div.drop(columns='index',inplace=True)\n",
    "med_age_div\n",
    "\n",
    "# For Millennials : \n",
    "\n",
    "mil_div = age_grp_sex_of_divorcees[['Years','Total Male Divorcees (Number)', 'Under 25 (Number)', '25-29 (Number)', '30-34 (Number)', '35-39 (Number)','Total Female Divorcees (Number)', 'Under 25 (Number).1', '25-29 (Number).1', '30-34 (Number).1', '35-39 (Number).1' ]].loc[19:].copy()\n",
    "mil_div\n",
    "mil_div.reset_index(inplace=True)\n",
    "mil_div.drop(columns='index',inplace=True)\n",
    "mil_div.columns = [['Years', 'Total Male Divorcees (Number)', 'Male Divorcees aged Under 25 (Number)', 'Male Divorcees aged 25-29 (Number)', 'Male Divorcees aged 30-34 (Number)', 'Male Divorcees aged 35-39 (Number)','Total Female Divorcees (Number)', 'Female Divorcees aged Under 25 (Number)', 'Female Divorcees aged 25-29 (Number)', 'Female Divorcees aged 30-34 (Number)', 'Female Divorcees aged 35-39 (Number)']]\n",
    "mil_div\n",
    "mil_div.to_csv(\"../datasets/mil_div.csv\")\n",
    "millennials_divorcees = pd.read_csv(\"../datasets/mil_div.csv\", index_col = 0)\n",
    "millennials_divorcees\n",
    "\n",
    "# Total Divorce  of male and female\n",
    "tot_div_= millennials_divorcees[['Years','Total Male Divorcees (Number)', 'Total Female Divorcees (Number)']].copy()\n",
    "tot_div_\n",
    "\n",
    "# Millennial Males Divorcees-\n",
    "div_males = millennials_divorcees[['Years','Male Divorcees aged Under 25 (Number)', 'Male Divorcees aged 25-29 (Number)', 'Male Divorcees aged 30-34 (Number)', 'Male Divorcees aged 35-39 (Number)']].copy()\n",
    "div_males\n",
    "\n",
    "# Millennial Females Divorcees\n",
    "div_females = millennials_divorcees[['Years','Female Divorcees aged Under 25 (Number)', 'Female Divorcees aged 25-29 (Number)', 'Female Divorcees aged 30-34 (Number)', 'Female Divorcees aged 35-39 (Number)']].copy()\n",
    "div_females\n",
    "\n",
    "\n",
    "# For Gen X:\n",
    "\n",
    "genx_div = age_grp_sex_of_divorcees[['Years','Total Male Divorcees (Number)', '40-44 (Number)', '45-49 (Number)', '50-54 (Number)', '55-59 (Number)', '60 & Over (Number)','Total Female Divorcees (Number)','40-44 (Number).1', '45-49 (Number).1', '50-54 (Number).1', '55-59 (Number).1', '60 & Over (Number).1']].loc[19:].copy()\n",
    "genx_div\n",
    "genx_div.reset_index(inplace=True)\n",
    "genx_div.drop(columns='index',inplace=True)\n",
    "genx_div.columns = [['Years', 'Total Male Divorcees (Number)', 'Male Divorcees aged 40-44 (Number)', 'Male Divorcees aged 45-49 (Number)', 'Male Divorcees aged 50-54 (Number)', 'Male Divorcees aged 55-59 (Number)', 'Male Divorcees aged 60 & Over (Number)', 'Total Female Divorcees (Number)', 'Female Divorcees aged 40-44 (Number)', 'Female Divorcees aged 45-49 (Number)', 'Female Divorcees aged 50-54 (Number)', 'Female Divorcees aged 55-59 (Number)', 'Female Divorcees aged 60 & Over (Number)']]\n",
    "genx_div.to_csv(\"../datasets/genx_div.csv\")\n",
    "gen_x_divorcees = pd.read_csv(\"../datasets/genx_div.csv\", index_col = 0) \n",
    "gen_x_divorcees\n",
    "\n",
    "# Gen X Males Divorcees\n",
    "div_males2 = gen_x_divorcees[['Years','Male Divorcees aged 40-44 (Number)', 'Male Divorcees aged 45-49 (Number)', 'Male Divorcees aged 50-54 (Number)', 'Male Divorcees aged 55-59 (Number)', 'Male Divorcees aged 60 & Over (Number)']].copy()\n",
    "div_males2\n",
    "\n",
    "# Gen X Females Divorcees\n",
    "div_females2 = gen_x_divorcees[['Years','Female Divorcees aged 40-44 (Number)', 'Female Divorcees aged 45-49 (Number)', 'Female Divorcees aged 50-54 (Number)', 'Female Divorcees aged 55-59 (Number)', 'Female Divorcees aged 60 & Over (Number)']].copy()\n",
    "#div_females2"
   ]
  },
  {
   "cell_type": "code",
   "execution_count": null,
   "metadata": {
    "ExecuteTime": {
     "end_time": "2023-11-03T21:33:02.257353Z",
     "start_time": "2023-11-03T21:32:59.082Z"
    }
   },
   "outputs": [],
   "source": [
    "#KEY INDICATORS ON THE DIVORCES\n",
    "\n",
    "divorce_key_indicator\n",
    "\n",
    "# Key factors of divorce\n",
    "\n",
    "mil_df2.reset_index(inplace=True)\n",
    "mil_df2.drop(columns='index',inplace=True)\n",
    "mil_df2\n",
    "mil_df2.to_csv(\"../datasets/mil_df2.csv\")\n",
    "millennials_divorce_rate = pd.read_csv(\"../datasets/mil_df2.csv\", index_col = 0)\n",
    "millennials_divorce_rate\n",
    "\n",
    "k_div_df = divorce_key_indicator[['Years', 'Total Divorces (Number)','Median Age Of Male Divorcees (Years)','Median Age Of Female Divorcees (Years)','Median Duration Of Marriage For Divorces (Years)']].loc[19:].copy()\n",
    "k_div_df.reset_index(inplace=True)\n",
    "k_div_df.drop(columns='index',inplace=True)\n",
    "k_div_df\n",
    "k_div_df.to_csv(\"../datasets/k_div_df.csv\")\n",
    "key_factors_divorce = pd.read_csv(\"../datasets/k_div_df.csv\", index_col = 0)\n",
    "key_factors_divorce"
   ]
  },
  {
   "cell_type": "code",
   "execution_count": null,
   "metadata": {
    "ExecuteTime": {
     "end_time": "2023-11-03T21:33:02.258353Z",
     "start_time": "2023-11-03T21:32:59.084Z"
    }
   },
   "outputs": [],
   "source": [
    "# to select the color theme of the graph in plotly\n",
    "#dir(px.colors.qualitative) "
   ]
  },
  {
   "cell_type": "markdown",
   "metadata": {},
   "source": [
    "# 9 ) Data Analysis and Vizualization"
   ]
  },
  {
   "cell_type": "markdown",
   "metadata": {},
   "source": [
    "### 1.            Total Population against the  number of married couple and the age of the people in singapore during the period 1998 to 2019.\n",
    "\n",
    "This study made an attempt to find out the total population versus the number of married people and the age of the people in Singapore. The reason behind this examination is to get a detailed understanding of the ratio of married couple against the total population and also to get the an idea of the median age of the population during the study period 1998 to 2019 in Singapore.\n",
    "\n",
    "To find out this information, a detailed investigation of different statistical published data was made. Since the study depends only on secondary source of data, the variables relevant for the purpose of this study is given below.\n",
    "\n",
    "\n",
    "**Tables :**\n",
    "\n",
    "This table was merged from two datasets(or dataframes) which are 'Population Structure' and 'Key indicators of Marriage' which was cleaned and saved under the variables pop_struct and marriage_key_indicator respectively.\n",
    "Only those variables that is relevant for this ananlysis is taken from each dataset and integrated to form this table."
   ]
  },
  {
   "cell_type": "code",
   "execution_count": null,
   "metadata": {
    "ExecuteTime": {
     "end_time": "2023-11-03T21:33:02.259353Z",
     "start_time": "2023-11-03T21:32:59.088Z"
    },
    "scrolled": true
   },
   "outputs": [],
   "source": [
    "pop_struct_marriage"
   ]
  },
  {
   "cell_type": "markdown",
   "metadata": {},
   "source": [
    "                            Table 1.0 : Merged dataset with relevant variables"
   ]
  },
  {
   "cell_type": "markdown",
   "metadata": {},
   "source": [
    "**Graphs:**\n",
    "\n",
    "For the graphs given below, the Plotly library has been implemented. Plotly is an interactive library and in order to get the detailed visualization, the cursor should be kept at the line graph and the respective values will show up.\n",
    "Multiple graphs has been embedded within the two graphs given below. To view each of them, only those variables should be clicked which is not the topic of interest and the graph related to that will show up."
   ]
  },
  {
   "cell_type": "code",
   "execution_count": null,
   "metadata": {
    "ExecuteTime": {
     "end_time": "2023-11-03T21:33:02.259353Z",
     "start_time": "2023-11-03T21:32:59.092Z"
    },
    "scrolled": false
   },
   "outputs": [],
   "source": [
    "import plotly.express as px\n",
    "import plotly.graph_objs as go\n",
    "\n",
    "# Total Population and marriages\n",
    "fig = px.line(pop_struct_marriage, x='Years',y= ['Total Marriages * (Number)','Total Population * (Number)'])\n",
    "fig.update_layout(\n",
    "title='Graph 1.0: Total Population and marriages', hovermode='x',width = 1000,\n",
    "xaxis_tickfont_size=14,\n",
    "yaxis= dict(title='Number of People',titlefont_size=16,tickfont_size=14))\n",
    "fig.show()"
   ]
  },
  {
   "cell_type": "code",
   "execution_count": null,
   "metadata": {
    "ExecuteTime": {
     "end_time": "2023-11-03T21:33:02.260353Z",
     "start_time": "2023-11-03T21:32:59.095Z"
    },
    "scrolled": false
   },
   "outputs": [],
   "source": [
    "# Total Marriages and Median age of the population\n",
    "\n",
    "fig = px.line(pop_struct_marriage, x='Years',y= ['Total Marriages * (Number)','Median Age Of Resident Population * (Years)','Median Age Of Citizen Population * (Years)'])\n",
    "fig.update_layout(\n",
    "title='Graph 1.1: Total Marriages and Median Age of the Population', hovermode='x', width = 1000,\n",
    "xaxis_tickfont_size=10,\n",
    "yaxis= dict(title='Number of People',titlefont_size=16,tickfont_size=14))\n",
    "fig.show()"
   ]
  },
  {
   "cell_type": "markdown",
   "metadata": {},
   "source": [
    "#### Interpretation:\n",
    "\n",
    "\n",
    "\n",
    "*Considering the graph 1.0 :*\n",
    "\n",
    "This graph has multiple line graphs embedded into a single plot which clearly depicts the trend of total marriages against the total population during a span of 20 years. It can be seen that the total population has constantly increased from the year 1998 with 3.927213 to 5.703569 million people by the year 2019. The total population faced a slight dip in the year 2003 with 4.114826 million people and from the year 2016 to 2018 it was relatively constant around 5.638676 million people. After that the population increased slightly in 2019. When compared to the total population, the total marriages looks constant at first glance but it actually has many spikes and dips when seen individually.\n",
    "When individually considered, the total marriages line graph, it can be seen that the total marriages has many sharp spikes and dips from the year 1998 to 2019. The highest number of marriages was in the year 2014 with 28.407 thousand married couple after which it was relatively stable till the year 2015. It varies till the year 2017 after that it declines till the year 2019 with  25.43 thousand married couple. The lowest number of marriages was seen in the year 2003 with 21.962 thousand married couple, at a year when even the total population was facing a dip.\n",
    "Thus, it can be seen that the total number of married couples fluctulates a lot but see a rise till the year 2014 along with the total population. After the year 2014, the total population continues to rise but the number of married couple face a decline. \n",
    "\n",
    "*Considering the graph 1.1 :*\n",
    "\n",
    "This graph has multiple line graphs embedded into a single plot which clearly depicts the trend of total marriages against the median age of the resident and citizen population during a span of 20 years. As discussed above, the total number of married couples fluctuates quite sharply from 23.106 to 25.434 thousand during a span of 20 years. The age of the resident and citizen population is quite stable when compared with that of the total marriages.\n",
    "When the age of the resident and citizen population line graph is considered, it can be seen that the age of the citizens and that of the residents both are around 33 years in the year 1998 and both of them increase linearly till the age of the population under these two categories are around 42 years in the year 2019. To understand this futher, the mean function was performed on the variables to find the average number of married couples and that of the age of the population as given below.\n",
    "\n",
    "Thus, it can be concluded that the average number of marriages ranges from 23106 to 25434 during a span of 20 years.\n",
    "Meanwhile the average population of both the residents and citizens is dominated by the Millennials(aged between 15 to 39 years) from the year 1998 to 2012. After which, a gradual increase in the number of Gen X(aged 40 years and above). \n"
   ]
  },
  {
   "cell_type": "code",
   "execution_count": null,
   "metadata": {
    "ExecuteTime": {
     "end_time": "2023-11-03T21:33:02.261355Z",
     "start_time": "2023-11-03T21:32:59.098Z"
    }
   },
   "outputs": [],
   "source": [
    "### Average of number of married couple and age of population through the years.\n",
    "pop_struct_marriage.groupby([\"Years\",\"Total Marriages * (Number)\"], as_index=True)[['Median Age Of Resident Population * (Years)','Median Age Of Citizen Population * (Years)']].mean() "
   ]
  },
  {
   "cell_type": "markdown",
   "metadata": {},
   "source": [
    "                    Table 1.1 : Average number of marriages and the age of the population "
   ]
  },
  {
   "cell_type": "markdown",
   "metadata": {},
   "source": [
    "### 2.            Marriage Trends in singapore during the period 1998 to 2019.\n",
    "\n",
    "This study makes an attempt to analyse and understands the various marriage trends among the singaporean Millennials and Generation X (Gen X)."
   ]
  },
  {
   "cell_type": "markdown",
   "metadata": {},
   "source": [
    "### 2.1           Marriage rates in singapore during the period 1998 to 2019.\n",
    "\n",
    "This study considers the total marriage rates of males and female, the marriage rates of the two generations(Millennials and Gen X) during the study period.\n",
    "\n",
    "**Tables :**\n",
    "\n",
    "This table was cleaned and saved under the variable marriage_rate_age_grp. The data from this table was then split into two dataframes according to the two generations that is Millennials and Gen X and was saved under the variables millennials_marriage_rate and gen_x_marriage_rate respectively.\n"
   ]
  },
  {
   "cell_type": "code",
   "execution_count": null,
   "metadata": {
    "ExecuteTime": {
     "end_time": "2023-11-03T21:33:02.262371Z",
     "start_time": "2023-11-03T21:32:59.103Z"
    },
    "scrolled": true
   },
   "outputs": [],
   "source": [
    "marriage_rate_age_grp.loc[18:].reset_index().drop(columns='index')"
   ]
  },
  {
   "cell_type": "markdown",
   "metadata": {},
   "source": [
    "                                Table 2.1.0 : Dataset with relevant variables."
   ]
  },
  {
   "cell_type": "code",
   "execution_count": null,
   "metadata": {
    "ExecuteTime": {
     "end_time": "2023-11-03T21:33:02.263317Z",
     "start_time": "2023-11-03T21:32:59.107Z"
    },
    "scrolled": true
   },
   "outputs": [],
   "source": [
    "# Marriage rate of the Millennials\n",
    "\n",
    "millennials_marriage_rate"
   ]
  },
  {
   "cell_type": "markdown",
   "metadata": {},
   "source": [
    "                                   Table 2.1.1 : Marriage rate of the Millennials"
   ]
  },
  {
   "cell_type": "code",
   "execution_count": null,
   "metadata": {
    "ExecuteTime": {
     "end_time": "2023-11-03T21:33:02.264308Z",
     "start_time": "2023-11-03T21:32:59.111Z"
    },
    "scrolled": true
   },
   "outputs": [],
   "source": [
    "# Marriage rate of the Gen X\n",
    "\n",
    "gen_x_marriage_rate"
   ]
  },
  {
   "cell_type": "markdown",
   "metadata": {},
   "source": [
    "                                    Table 2.1.2 : Marriage rate of the Gen X"
   ]
  },
  {
   "cell_type": "markdown",
   "metadata": {},
   "source": [
    "**Graphs:**\n",
    "\n",
    "For the graphs given below, the Plotly library has been used."
   ]
  },
  {
   "cell_type": "code",
   "execution_count": null,
   "metadata": {
    "ExecuteTime": {
     "end_time": "2023-11-03T21:33:02.265311Z",
     "start_time": "2023-11-03T21:32:59.114Z"
    },
    "scrolled": false
   },
   "outputs": [],
   "source": [
    "# Total Marriage rates of Male and Female\n",
    "\n",
    "tot = px.line(tot_mar_rate,x=\"Years\",y=[\"Male General Marriage Rate * (Per 1,000 Unmarried Resident Males Aged 15-49)\",\"Female General Marriage Rate * (Per 1,000 Unmarried Resident Females Aged 15-49)\"])\n",
    "tot.update_layout(\n",
    "title='Graph 2.1.0: Total Marriage rates of Male and Female', hovermode='x',  width = 1500,\n",
    "xaxis_tickfont_size=14,\n",
    "yaxis= dict(title='Marriage rate',titlefont_size=16,tickfont_size=14))\n",
    "tot.show()"
   ]
  },
  {
   "cell_type": "code",
   "execution_count": null,
   "metadata": {
    "ExecuteTime": {
     "end_time": "2023-11-03T21:33:02.266310Z",
     "start_time": "2023-11-03T21:32:59.117Z"
    }
   },
   "outputs": [],
   "source": [
    "import plotly.express as px\n",
    "import plotly.graph_objs as go\n",
    "\n",
    "# Marriage rates of Millennials-Males\n",
    "m1 = px.bar(mar_males_r,x=\"Years\",y=[\"15 - 19 Years (Per 1,000 Unmarried Resident Males)\", \"20 - 24 Years (Per 1,000 Unmarried Resident Males)\", \"25 - 29 Years (Per 1,000 Unmarried Resident Males)\", \"30 - 34 Years (Per 1,000 Unmarried Resident Males)\", \"35 - 39 Years (Per 1,000 Unmarried Resident Males)\"])\n",
    "m1.update_layout(\n",
    "title='Graph 2.1.1: Marriage rates of Millennials-Males', hovermode='x', barmode='group', width = 1700,\n",
    "xaxis_tickfont_size=14,\n",
    "yaxis= dict(title='Marriage rate',titlefont_size=16,tickfont_size=14))\n",
    "m1.show()"
   ]
  },
  {
   "cell_type": "code",
   "execution_count": null,
   "metadata": {
    "ExecuteTime": {
     "end_time": "2023-11-03T21:33:02.266310Z",
     "start_time": "2023-11-03T21:32:59.120Z"
    }
   },
   "outputs": [],
   "source": [
    "import plotly.express as px\n",
    "import plotly.graph_objs as go\n",
    "\n",
    "# Marriage rates of Millennials-Females\n",
    "m2 = px.bar(mar_females_r, x='Years',y=['15 - 19 Years (Per 1,000 Unmarried Resident Females)', '20 - 24 Years (Per 1,000 Unmarried Resident Females)', '25 - 29 Years (Per 1,000 Unmarried Resident Females)', '30 - 34 Years (Per 1,000 Unmarried Resident Females)', '35 - 39 Years (Per 1,000 Unmarried Resident Females)'],color_discrete_sequence=px.colors.qualitative.Pastel)\n",
    "m2.update_layout(\n",
    "title='Graph 2.1.2: Marriage rates of Millennials-Females', hovermode='x',barmode='group', width = 2000, \n",
    "xaxis_tickfont_size=14,\n",
    "yaxis= dict(title='Marriage rate',titlefont_size=16,tickfont_size=14))\n",
    "m2.show()"
   ]
  },
  {
   "cell_type": "code",
   "execution_count": null,
   "metadata": {
    "ExecuteTime": {
     "end_time": "2023-11-03T21:33:02.267309Z",
     "start_time": "2023-11-03T21:32:59.123Z"
    }
   },
   "outputs": [],
   "source": [
    "import plotly.express as px\n",
    "import plotly.graph_objs as go\n",
    "\n",
    "# Marriage rates of Generation X -Males\n",
    "g1 = px.bar(mar_males_r2, x='Years',y=['40 - 44 Years (Per 1,000 Unmarried Resident Males)', '45 - 49 Years (Per 1,000 Unmarried Resident Males)', '50 - 54 Years (Per 1,000 Unmarried Resident Males)', '55 - 59 Years (Per 1,000 Unmarried Resident Males)', '60 - 64 Years * (Per 1,000 Unmarried Resident Males)', '65 Years & Over (Per 1,000 Unmarried Resident Males)'],color_discrete_sequence=px.colors.qualitative.G10)\n",
    "g1.update_layout(\n",
    "title='Graph 2.1.3: Marriage rates of Generation X -Males', hovermode='x',barmode='group', width = 2000, \n",
    "xaxis_tickfont_size=14,\n",
    "yaxis= dict(title='Marriage rate',titlefont_size=16,tickfont_size=14))\n",
    "g1.show()"
   ]
  },
  {
   "cell_type": "code",
   "execution_count": null,
   "metadata": {
    "ExecuteTime": {
     "end_time": "2023-11-03T21:33:02.268312Z",
     "start_time": "2023-11-03T21:32:59.126Z"
    }
   },
   "outputs": [],
   "source": [
    "import plotly.express as px\n",
    "import plotly.graph_objs as go\n",
    "\n",
    "# Marriage rates of Generation X -Females\n",
    "g2 = px.bar(mar_females_r2, x='Years',y=['40 - 44 Years (Per 1,000 Unmarried Resident Females)', '45 - 49 Years (Per 1,000 Unmarried Resident Females)', '50 - 54 Years (Per 1,000 Unmarried Resident Females)', '55 - 59 Years (Per 1,000 Unmarried Resident Females)', '60 - 64 Years * (Per 1,000 Unmarried Resident Females)', '65 Years & Over (Per 1,000 Unmarried Resident Females)'],color_discrete_sequence=px.colors.qualitative.G10_r)\n",
    "g2.update_layout(\n",
    "title='Graph 2.1.4: Marriage rates of Generation X -Females', hovermode='x',barmode='group', width = 2000, \n",
    "xaxis_tickfont_size=14,\n",
    "yaxis= dict(title='Marriage rate',titlefont_size=16,tickfont_size=14))\n",
    "g2.show()"
   ]
  },
  {
   "cell_type": "markdown",
   "metadata": {},
   "source": [
    "#### Interpretation:\n",
    "\n",
    "\n",
    "\n",
    "*Considering the graph 2.1.0 :*\n",
    "\n",
    "This line graph depicts the total general marriage rate of both male and female aged 15 to 49 years per thousand unmarried residents during the study period that is from the year 1998 to 2019.\n",
    "The total marriage rates per thousand unmarried residents was around 49.9 in the year 1998 and it steadily declined by the year 2019 with around 40.7 per unmarried residents with some fluctuations through the span of 20 years.\n",
    "The highest total marriage rates were in the year 1999 with 54.8 per unmarried rates and the lowest was in the year 2010 with 39.\n",
    "It can be seen that the total marriage rates have declined in the last 20 years.\n",
    "\n",
    "*Considering the graph 2.1.1 :*\n",
    "\n",
    "This bar chart depicts the marriage rates of the Singaporean Millennials - Males during the study period of the last 20 years. The marriage rates of the millennials(aged from 15 to 39) has further been divided into five categories according to their age group.\n",
    "It can be seen that the marriage rates of the younger age groups that is males aged from 15 to 29 years old was highest in the years 1999 and 2001 but it progressively declined through the years with many fluctuations and was the lowest in the year 2019. \n",
    "Meanwhile the marriage rates of the older age groups of the millennials that is males aged from 30 to 39 years old was lowest in the year 2000 and 2003 and it progressively increased. The marriage rates of the older age group was highest in the years 2012 and 2015 and it declined marginally by the year 2019.\n",
    "\n",
    "*Considering the graph 2.1.2 :*\n",
    "\n",
    "Similar to the previous graph, this bar chart depicts the marriage rates of the Singaporean Millennials- Females according to their age groups during the study period.\n",
    "It can be seen that marriage rates of the younger age groups that is females aged from 15 to 29 years old was highest in the year 1999 but it progressively declined through the years with few fluctuations and was lowest during the years 2018 to 2019.\n",
    "Meanwhile the marriage rates of the older age groups of the millennials that is females aged from 30 to 39 years old was the lowest in the year 2000 and it progressively increased with many fluctuations. The marriage rates of the older age group was highest in the years 2015 and 2017 and it declined slightly by the year 2019.\n",
    "\n",
    "*Considering the graph 2.1.3 :*\n",
    "\n",
    "This bar graph depicts the marriage rates of the Singaporean Generation X (Gen X) - Males categorized by their age groups during the study period.\n",
    "It can be seen that the marriage rates of the younger age groups that is males aged from 40 to 49 years old was lowest in the year 2003 but it progressively increased and was highest in the yeears 2011 and 2012. After that it slightly declined by the year 2019. Meanwhile the marriage rates of the older age group  progressively declined in the last 20 years.\n",
    "\n",
    "*Considering the graph 2.1.4 :*\n",
    "\n",
    "Similar to the previous graph, this bar graph depicts the marriage rates of \n",
    "the Singaporean Gen X- Females according to their age groups from the year 1998 to 2019.\n",
    "Unlike the Gen X- Males, the marriage rates of the Gen X- Females progressively increased in the last 20 years when considered  individually.\n",
    "\n",
    "\n",
    "Thus, it can be concluded that the marriage rates of the of the Millennials progressively decrease while the marriage rates of the Gen X progressively increase in a span of 20 years."
   ]
  },
  {
   "cell_type": "markdown",
   "metadata": {},
   "source": [
    "### 2.2           Median age of the Brides and the Grooms in singapore during the period 1998 to 2019.\n",
    "\n",
    "This study considers the median age of the Singaporean brides and the grooms under two scenarios, firstly without taking into account the type of marriage that is whether it is first marriage or a remarriage. Secondly, with respect to the type of marriage during the study period.\n",
    "\n",
    "**Tables :**\n",
    "\n",
    "This table was cleaned and saved under the variabe median_age_bride_groom. The data from this table was then split into two dataframes according to the two scenarios under study and was saved under the variables tot_mar_age and med_age_marriage_df respectively.\n"
   ]
  },
  {
   "cell_type": "code",
   "execution_count": null,
   "metadata": {
    "ExecuteTime": {
     "end_time": "2023-11-03T21:33:02.269311Z",
     "start_time": "2023-11-03T21:32:59.131Z"
    },
    "scrolled": true
   },
   "outputs": [],
   "source": [
    "median_age_bride_groom.loc[38:].reset_index().drop(columns='index')"
   ]
  },
  {
   "cell_type": "markdown",
   "metadata": {},
   "source": [
    "                                    Table 2.2.0 : The Main Dataset"
   ]
  },
  {
   "cell_type": "code",
   "execution_count": null,
   "metadata": {
    "ExecuteTime": {
     "end_time": "2023-11-03T21:33:02.270311Z",
     "start_time": "2023-11-03T21:32:59.134Z"
    }
   },
   "outputs": [],
   "source": [
    "# median age of the grooms and brides - not considering the type\n",
    "tot_mar_age"
   ]
  },
  {
   "cell_type": "markdown",
   "metadata": {},
   "source": [
    "       Table 2.2.1 : Median age of the grooms and brides-not considering the type"
   ]
  },
  {
   "cell_type": "code",
   "execution_count": null,
   "metadata": {
    "ExecuteTime": {
     "end_time": "2023-11-03T21:33:02.272249Z",
     "start_time": "2023-11-03T21:32:59.138Z"
    }
   },
   "outputs": [],
   "source": [
    "# median age of the grooms and brides - considering the type\n",
    "med_age_marriage_df"
   ]
  },
  {
   "cell_type": "markdown",
   "metadata": {},
   "source": [
    "       Table 2.2.2 : Median age of the grooms and brides-considering the type"
   ]
  },
  {
   "cell_type": "markdown",
   "metadata": {},
   "source": [
    "**Graphs:**\n",
    "\n",
    "For the graphs given below, the Plotly library has been used."
   ]
  },
  {
   "cell_type": "code",
   "execution_count": null,
   "metadata": {
    "ExecuteTime": {
     "end_time": "2023-11-03T21:33:02.273241Z",
     "start_time": "2023-11-03T21:32:59.141Z"
    }
   },
   "outputs": [],
   "source": [
    "import plotly.express as px\n",
    "import plotly.graph_objs as go\n",
    "\n",
    "# Median age of the Groom and Bride irrespective of the type\n",
    "f = px.line(tot_mar_age, x='Years',y= ['Grooms - Total Marriages','Brides - Total Marriages'])\n",
    "f.update_layout(\n",
    "title='Graph 2.2.0: Median age of the Groom and Bride irrespective of the type of marriage(First/Remarriage)', hovermode='x',width = 1000,\n",
    "xaxis_tickfont_size=14,\n",
    "yaxis= dict(title='Age of the bride/groom ',titlefont_size=16,tickfont_size=14))\n",
    "f.show()"
   ]
  },
  {
   "cell_type": "code",
   "execution_count": null,
   "metadata": {
    "ExecuteTime": {
     "end_time": "2023-11-03T21:33:02.274240Z",
     "start_time": "2023-11-03T21:32:59.145Z"
    }
   },
   "outputs": [],
   "source": [
    "import plotly.express as px\n",
    "import plotly.graph_objs as go\n",
    "\n",
    "#  Median age of the Groom and Bride with respect to the type\n",
    "f2 = px.scatter(med_age_marriage_df,x=\"Years\",y=['Grooms - First Marriages', 'Grooms - Remarriages','Brides - First Marriages', 'Brides - Remarriages'],color_discrete_sequence=px.colors.qualitative.Vivid_r, size= 'Years')\n",
    "f2.update_layout(\n",
    "title='Graph 2.2.1: Median age of the Groom and Bride with respect to the type of marriage(First/remarriage)', hovermode='x', width = 1000, \n",
    "xaxis_tickfont_size=14,\n",
    "yaxis= dict(title='Age of the bride/groom ',titlefont_size=16,tickfont_size=14))\n",
    "f2.show()"
   ]
  },
  {
   "cell_type": "markdown",
   "metadata": {},
   "source": [
    "#### Interpretation:\n",
    "\n",
    "\n",
    "\n",
    "*Considering the graph 2.2.0 :*\n",
    "\n",
    "This line graph depicts the median age of the Singaporean grooms and brides without considering whether it is a first marriage or a remarriage during the study period that is from 1998 to 2019.\n",
    "It can be seen that median age of the grooms and brides progressively rise starting at the age of around 26 to 29 years in the year 1998 with few fluctuations and by the year 2019, the age of the grooms and brides is around 29 to 31.4 years.\n",
    "\n",
    "*Considering the graph 2.2.1 :*\n",
    "\n",
    "This scatterplot depicts the median age of the Singaporean grooms and brides while considering whether it is a first marriage or a remarriage during the study period.\n",
    "It can be seen that the median age of the grooms and brides progressively rise with few dips in a span of 20 years. The age of the grooms and brides range from 25 to 30 years during their first marriages. While considering the grooms during their remarriage, the age group is from 39 to 44 years. Unlike the grooms, the age group of the brides during their remarriage is from 33 to 38 years.\n",
    "\n",
    "Thus, it can be concluded that Singaporean Gen X- males mostly do remarriage while the first marriage is dominated by the millennials. Many of the millennial females also do remarriage."
   ]
  },
  {
   "cell_type": "markdown",
   "metadata": {},
   "source": [
    "### 3.            Divorce Trends in singapore during the period 1998 to 2019.\n",
    "\n",
    "This study makes an attempt to analyse and understands the various divorce trends among the singaporean Millennials and Generation X (Gen X)."
   ]
  },
  {
   "cell_type": "markdown",
   "metadata": {},
   "source": [
    "### 3.1           Divorce rates in singapore during the period 1998 to 2019.\n",
    "\n",
    "This study considers the total divorce rates of males and female, the divorce rates of the two generations(Millennials and Gen X) during the study period.\n",
    "\n",
    "**Tables :**\n",
    "\n",
    "This table was cleaned and saved under the variable divorce_rate. The data from this table was then split into two dataframes according to the two generations that is Millennials and Gen X and was saved under the variables millennials_divorce_rate and gen_x_divorce_rate respectively."
   ]
  },
  {
   "cell_type": "code",
   "execution_count": null,
   "metadata": {
    "ExecuteTime": {
     "end_time": "2023-11-03T21:33:02.274240Z",
     "start_time": "2023-11-03T21:32:59.149Z"
    },
    "scrolled": true
   },
   "outputs": [],
   "source": [
    "divorce_rate.loc[19:].reset_index().drop(columns='index')"
   ]
  },
  {
   "cell_type": "markdown",
   "metadata": {},
   "source": [
    "                               Table 3.1.0 : The Dataset of the Divorce rate\n",
    "                    "
   ]
  },
  {
   "cell_type": "code",
   "execution_count": null,
   "metadata": {
    "ExecuteTime": {
     "end_time": "2023-11-03T21:33:02.275239Z",
     "start_time": "2023-11-03T21:32:59.152Z"
    },
    "scrolled": true
   },
   "outputs": [],
   "source": [
    "# Divorce rates of Millennials\n",
    "millennials_divorce_rate"
   ]
  },
  {
   "cell_type": "markdown",
   "metadata": {},
   "source": [
    "                               Table 3.1.1 : The Divorce rates of Millennials"
   ]
  },
  {
   "cell_type": "code",
   "execution_count": null,
   "metadata": {
    "ExecuteTime": {
     "end_time": "2023-11-03T21:33:02.276240Z",
     "start_time": "2023-11-03T21:32:59.156Z"
    },
    "scrolled": true
   },
   "outputs": [],
   "source": [
    "# Divorce rates of Gen X\n",
    "gen_x_divorce_rate"
   ]
  },
  {
   "cell_type": "markdown",
   "metadata": {},
   "source": [
    "                               Table 3.1.2 : The Divorce rates of Gen X"
   ]
  },
  {
   "cell_type": "markdown",
   "metadata": {},
   "source": [
    "**Graphs:**\n",
    "\n",
    "For the graphs given below, the Plotly library has been used."
   ]
  },
  {
   "cell_type": "code",
   "execution_count": null,
   "metadata": {
    "ExecuteTime": {
     "end_time": "2023-11-03T21:33:02.277240Z",
     "start_time": "2023-11-03T21:32:59.159Z"
    }
   },
   "outputs": [],
   "source": [
    "import plotly.express as px\n",
    "# Total Divorce rates of Male and Female\n",
    "\n",
    "tot_div = px.line(tot_div_rate,x=\"Years\",y=[\"Male General Divorce Rate * (Per 1,000 Married Resident Aged 20 Years & Over)\", \"Female General Divorce Rate * (Per 1,000 Married Resident Aged 20 Years & Over)\"])\n",
    "tot_div.update_layout(\n",
    "title='Graph 3.1.0: Total Divorce rates of Male and Female', hovermode='x',  width = 1500,\n",
    "xaxis_tickfont_size=14,\n",
    "yaxis= dict(title='Divorce rate',titlefont_size=16,tickfont_size=14))\n",
    "tot_div.show()"
   ]
  },
  {
   "cell_type": "code",
   "execution_count": null,
   "metadata": {
    "ExecuteTime": {
     "end_time": "2023-11-03T21:33:02.277240Z",
     "start_time": "2023-11-03T21:32:59.161Z"
    }
   },
   "outputs": [],
   "source": [
    "import plotly.express as px\n",
    "\n",
    "# Divorce rates of Millennials-Males\n",
    "m1_div = px.bar(div_males_r,x=\"Years\",y=[\"20 - 24 Years (Per 1,000 Married Resident Males)\", \"25 - 29 Years (Per 1,000 Married Resident Males)\", \"30 - 34 Years (Per 1,000 Married Resident Males)\", \"35 - 39 Years (Per 1,000 Married Resident Males)\"],color_discrete_sequence=px.colors.qualitative.Prism)\n",
    "m1_div.update_layout(\n",
    "title=' Graph 3.1.1: Divorce rates of Millennials-Males ', hovermode='x',barmode='group', width = 1500,\n",
    "xaxis_tickfont_size=14,\n",
    "yaxis= dict(title='Divorce rate',titlefont_size=16,tickfont_size=14))\n",
    "m1_div.show()"
   ]
  },
  {
   "cell_type": "code",
   "execution_count": null,
   "metadata": {
    "ExecuteTime": {
     "end_time": "2023-11-03T21:33:02.278239Z",
     "start_time": "2023-11-03T21:32:59.164Z"
    }
   },
   "outputs": [],
   "source": [
    "import plotly.express as px\n",
    "import plotly.graph_objs as go\n",
    "\n",
    "# Divorce rates of Millennials-Females\n",
    "m2_div = px.bar(div_females_r, x='Years',y=['20 - 24 Years (Per 1,000 Married Resident Females)', '25 - 29 Years (Per 1,000 Married Resident Females)', '30 - 34 Years (Per 1,000 Married Resident Females)', '35 - 39 Years (Per 1,000 Married Resident Females)'],color_discrete_sequence=px.colors.qualitative.Prism_r)\n",
    "m2_div.update_layout(\n",
    "title='Graph 3.1.2: Divorce rates of Millennials-Females', hovermode='x',barmode='group', width = 1500, \n",
    "xaxis_tickfont_size=14,\n",
    "yaxis= dict(title='Divorce rate',titlefont_size=16,tickfont_size=14))\n",
    "m2_div.show()"
   ]
  },
  {
   "cell_type": "code",
   "execution_count": null,
   "metadata": {
    "ExecuteTime": {
     "end_time": "2023-11-03T21:33:02.279243Z",
     "start_time": "2023-11-03T21:32:59.167Z"
    }
   },
   "outputs": [],
   "source": [
    "import plotly.express as px\n",
    "import plotly.graph_objs as go\n",
    "\n",
    "# Divorce rates of Generation X -Males\n",
    "g1_div = px.bar(div_males_r2, x='Years',y=['40 - 44 Years (Per 1,000 Married Resident Males)', '45 - 49 Years (Per 1,000 Married Resident Males)', '50 Years And Over (Per 1,000 Married Resident Males)'],color_discrete_sequence=px.colors.qualitative.Alphabet)\n",
    "g1_div.update_layout(\n",
    "title='Graph 3.1.3: Divorce rates of Generation X -Males', hovermode='x',barmode='group', width = 1500, \n",
    "xaxis_tickfont_size=14,\n",
    "yaxis= dict(title='Divorce rate',titlefont_size=16,tickfont_size=14))\n",
    "g1_div.show()"
   ]
  },
  {
   "cell_type": "code",
   "execution_count": null,
   "metadata": {
    "ExecuteTime": {
     "end_time": "2023-11-03T21:33:02.280241Z",
     "start_time": "2023-11-03T21:32:59.169Z"
    }
   },
   "outputs": [],
   "source": [
    "import plotly.express as px\n",
    "import plotly.graph_objs as go\n",
    "\n",
    "# Divorce rates of Generation X -Females\n",
    "g2_div = px.bar(div_females_r2, x='Years',y=['40 - 44 Years (Per 1,000 Married Resident Females)', '45 - 49 Years (Per 1,000 Married Resident Females)', '50 Years And Over (Per 1,000 Married Resident Females)'],color_discrete_sequence=px.colors.qualitative.Alphabet_r)\n",
    "g2_div.update_layout(\n",
    "title='Graph 3.1.4: Divorce rates of Generation X -Females', hovermode='x',barmode='group', width = 1500, \n",
    "xaxis_tickfont_size=14,\n",
    "yaxis= dict(title='Divorce rate',titlefont_size=16,tickfont_size=14))\n",
    "g2_div.show()"
   ]
  },
  {
   "cell_type": "markdown",
   "metadata": {},
   "source": [
    "#### Interpretation:\n",
    "\n",
    "\n",
    "\n",
    "*Considering the graph 3.1.0 :*\n",
    "\n",
    "This line graph depicts the total divorce rates of male and female per thousand married residents aged 20 years and over from the year 1998 to 2019. The total divorce rates per thousand married residents was around 7.5 in the year 1998 and it sharply went down in the year 2001 with 6.2 per thousand married residents. After that the divorce rates sharply increased and the highest was recorded in the year 2003 with 7.8 per thousand married residents. From the year 2003 to 2018, it started decreasing with many fluctuation and by 2019, the divorce rates went up again.\n",
    "\n",
    "*Considering the graph 3.1.1 :*\n",
    "\n",
    "This bar char represents the Divorce rates of the Millennials-Males categorized according to the age group. \n",
    "It can be seen that the divorce rates of younger age group in the range of 20 to 34 years has progressively declined by the year 2019 with many fluctuations. Meanwhile the divorce rates of the older group of the Millennial males aged 35 to 39 years progressively increased in the last 20 years with many spikes and dips.\n",
    "\n",
    "*Considering the graph 3.1.2 :*\n",
    "\n",
    "Similar to the previous graph, this bar chart depicts the Divorce rates of the Millennials-Females categorized according to the age groups. \n",
    "The divorce rates of the millennial females belonging to the younger age group that is aged from 20 to 34 years progressively declined with many fluctuations. While the divorce rates of the older age group aged from 35 to 39 years steadily increased in the last 20 years.\n",
    "\n",
    "*Considering the graph 3.1.3 :*\n",
    "\n",
    "This bar chart represents the Divorce rates of the Generation X (Gen X)- Males categorized according to their age groups. When each age group is considered individually, it is seen that the divorce rates of the Gen X males varied till the year 2004 and after that it progessively increased by the year 2019 with some fluctuations.\n",
    "Thus, the divorce rates of the Gen x males have increased in the last 20 years.\n",
    "\n",
    "*Considering the graph 3.1.4 :*\n",
    "\n",
    "Similar to the previous graph, this bar chart depicts the Divorce rates of the Generation X- Females categorized according to their age groups.\n",
    "When considered individually, it can be seen that the divorce rates of the Gen X females varied till the year 2004 and after that it progessively increased by the year 2019 with some fluctuations.\n",
    "Thus, the divorce rates of the Gen x females have increased in the last 20 years."
   ]
  },
  {
   "cell_type": "markdown",
   "metadata": {},
   "source": [
    "### 3.2         Male and Female  Divorcee  in singapore during the period 1998 to 2019.\n",
    "\n",
    "This study looks into the median age of male and female divorcees at the time of divorce, the total divorces of male and female and lastly considers the number of male and female divorcees of the two generations(Millennials and Gen X) in singapore during the study period.\n",
    "\n",
    "**Tables :**\n",
    "\n",
    "This table was cleaned and saved under the variable age_grp_sex_of_divorcees. The data from this table was then split into three dataframes according to the two generations that is Millennials and Gen X and the median age of the divorcees was saved under the variables millennials_divorcees, gen_x_divorcees and med_age_div respectively."
   ]
  },
  {
   "cell_type": "code",
   "execution_count": null,
   "metadata": {
    "ExecuteTime": {
     "end_time": "2023-11-03T21:33:02.280241Z",
     "start_time": "2023-11-03T21:32:59.174Z"
    },
    "scrolled": true
   },
   "outputs": [],
   "source": [
    "age_grp_sex_of_divorcees.loc[19:].reset_index().drop(columns='index')"
   ]
  },
  {
   "cell_type": "markdown",
   "metadata": {},
   "source": [
    "                                  Table 3.2.0 : The Dataset of the age group and sex of Divorcees"
   ]
  },
  {
   "cell_type": "code",
   "execution_count": null,
   "metadata": {
    "ExecuteTime": {
     "end_time": "2023-11-03T21:33:02.281241Z",
     "start_time": "2023-11-03T21:32:59.177Z"
    },
    "scrolled": true
   },
   "outputs": [],
   "source": [
    "# Millennial Divorcees\n",
    "millennials_divorcees"
   ]
  },
  {
   "cell_type": "markdown",
   "metadata": {},
   "source": [
    "                                  Table 3.2.1 : The Millennial Divorcees"
   ]
  },
  {
   "cell_type": "code",
   "execution_count": null,
   "metadata": {
    "ExecuteTime": {
     "end_time": "2023-11-03T21:33:02.282257Z",
     "start_time": "2023-11-03T21:32:59.181Z"
    },
    "scrolled": true
   },
   "outputs": [],
   "source": [
    "# Generation X Divorcees\n",
    "gen_x_divorcees"
   ]
  },
  {
   "cell_type": "markdown",
   "metadata": {},
   "source": [
    "                                  Table 3.2.2 : The Generation X Divorcees"
   ]
  },
  {
   "cell_type": "code",
   "execution_count": null,
   "metadata": {
    "ExecuteTime": {
     "end_time": "2023-11-03T21:33:02.282257Z",
     "start_time": "2023-11-03T21:32:59.184Z"
    },
    "scrolled": true
   },
   "outputs": [],
   "source": [
    "# Median age of the male and female divorcees at the time of divorce\n",
    "med_age_div"
   ]
  },
  {
   "cell_type": "markdown",
   "metadata": {},
   "source": [
    "                   Table 3.2.3 : The Median age of the male and female divorcees at the time of divorce"
   ]
  },
  {
   "cell_type": "markdown",
   "metadata": {},
   "source": [
    "**Graphs:**\n",
    "\n",
    "For the graphs given below, the Plotly library has been used."
   ]
  },
  {
   "cell_type": "code",
   "execution_count": null,
   "metadata": {
    "ExecuteTime": {
     "end_time": "2023-11-03T21:33:02.283130Z",
     "start_time": "2023-11-03T21:32:59.187Z"
    }
   },
   "outputs": [],
   "source": [
    "import plotly.express as px\n",
    "# Median Age of Male and female divorcees at the time of divorce\n",
    "\n",
    "age_divor = px.line(med_age_div,x=\"Years\",y=['Median Age At Divorce (Males) (Years)', 'Median Age At Divorce (Females) (Years)'])\n",
    "age_divor.update_layout(\n",
    "title='Graph 3.2.0: Median Age of Male and female divorcees at the time of divorce', hovermode='x',  width = 1200,\n",
    "xaxis_tickfont_size=14,\n",
    "yaxis= dict(title='Age of the divorcees',titlefont_size=16,tickfont_size=14))\n",
    "age_divor.show()"
   ]
  },
  {
   "cell_type": "code",
   "execution_count": null,
   "metadata": {
    "ExecuteTime": {
     "end_time": "2023-11-03T21:33:02.284123Z",
     "start_time": "2023-11-03T21:32:59.189Z"
    }
   },
   "outputs": [],
   "source": [
    "import plotly.express as px\n",
    "# Total Divorce  of male and female\n",
    "\n",
    "tot_divor = px.bar(tot_div_,x=\"Years\",y=['Total Male Divorcees (Number)', 'Total Female Divorcees (Number)'])\n",
    "tot_divor.update_layout(\n",
    "title='Graph 3.2.1: Total Divorce  of male and female', hovermode='x', barmode='group',width = 1000,\n",
    "xaxis_tickfont_size=14,\n",
    "yaxis= dict(title='Number of divorces',titlefont_size=16,tickfont_size=14))\n",
    "tot_divor.show()"
   ]
  },
  {
   "cell_type": "code",
   "execution_count": null,
   "metadata": {
    "ExecuteTime": {
     "end_time": "2023-11-03T21:33:02.284123Z",
     "start_time": "2023-11-03T21:32:59.192Z"
    }
   },
   "outputs": [],
   "source": [
    "import plotly.express as px\n",
    "import plotly.graph_objs as go\n",
    "\n",
    "# Millennial Males Divorcees\n",
    "mil_divor = px.bar(div_males, x='Years',y=['Male Divorcees aged Under 25 (Number)', 'Male Divorcees aged 25-29 (Number)', 'Male Divorcees aged 30-34 (Number)', 'Male Divorcees aged 35-39 (Number)'],color_discrete_sequence=px.colors.qualitative.Prism_r)\n",
    "mil_divor.update_layout(\n",
    "title='Graph 3.2.2: Millennial Males Divorcees', hovermode='x',barmode='group', width = 1500, \n",
    "xaxis_tickfont_size=14,\n",
    "yaxis= dict(title='Number of divorcees',titlefont_size=16,tickfont_size=14))\n",
    "mil_divor.show()"
   ]
  },
  {
   "cell_type": "code",
   "execution_count": null,
   "metadata": {
    "ExecuteTime": {
     "end_time": "2023-11-03T21:33:02.285124Z",
     "start_time": "2023-11-03T21:32:59.194Z"
    }
   },
   "outputs": [],
   "source": [
    "import plotly.express as px\n",
    "import plotly.graph_objs as go\n",
    "\n",
    "# Millennial Females Divorcees\n",
    "mil_divor2 = px.bar(div_females, x='Years',y=['Female Divorcees aged Under 25 (Number)', 'Female Divorcees aged 25-29 (Number)', 'Female Divorcees aged 30-34 (Number)', 'Female Divorcees aged 35-39 (Number)'],color_discrete_sequence=px.colors.qualitative.Bold)\n",
    "mil_divor2.update_layout(\n",
    "title='Graph 3.2.3: Millennial Females Divorcees', hovermode='x',barmode='group', width = 1500, \n",
    "xaxis_tickfont_size=14,\n",
    "yaxis= dict(title='Number of divorcees',titlefont_size=16,tickfont_size=14))\n",
    "mil_divor2.show()"
   ]
  },
  {
   "cell_type": "code",
   "execution_count": null,
   "metadata": {
    "ExecuteTime": {
     "end_time": "2023-11-03T21:33:02.286124Z",
     "start_time": "2023-11-03T21:32:59.197Z"
    }
   },
   "outputs": [],
   "source": [
    "import plotly.express as px\n",
    "import plotly.graph_objs as go\n",
    "\n",
    "# Gen X Males Divorcees\n",
    "gx_divor = px.bar(div_males2, x='Years',y=['Male Divorcees aged 40-44 (Number)', 'Male Divorcees aged 45-49 (Number)', 'Male Divorcees aged 50-54 (Number)', 'Male Divorcees aged 55-59 (Number)', 'Male Divorcees aged 60 & Over (Number)'],color_discrete_sequence=px.colors.qualitative.Alphabet)\n",
    "gx_divor.update_layout(\n",
    "title='Graph 3.2.4: Gen X Males Divorcees', hovermode='x',barmode='group', width = 1500, \n",
    "xaxis_tickfont_size=14,\n",
    "yaxis= dict(title='Number of divorcees',titlefont_size=16,tickfont_size=14))\n",
    "gx_divor.show()"
   ]
  },
  {
   "cell_type": "code",
   "execution_count": null,
   "metadata": {
    "ExecuteTime": {
     "end_time": "2023-11-03T21:33:02.286124Z",
     "start_time": "2023-11-03T21:32:59.199Z"
    }
   },
   "outputs": [],
   "source": [
    "import plotly.express as px\n",
    "import plotly.graph_objs as go\n",
    "\n",
    "# Gen X Females Divorcees\n",
    "gx_divor2 = px.bar(div_females2, x='Years',y=['Female Divorcees aged 40-44 (Number)', 'Female Divorcees aged 45-49 (Number)', 'Female Divorcees aged 50-54 (Number)', 'Female Divorcees aged 55-59 (Number)', 'Female Divorcees aged 60 & Over (Number)'],color_discrete_sequence=px.colors.qualitative.Alphabet_r)\n",
    "gx_divor2.update_layout(\n",
    "title='Graph 3.2.5: Gen X Females Divorcees', hovermode='x',barmode='group', width = 1500, \n",
    "xaxis_tickfont_size=14,\n",
    "yaxis= dict(title='Number of divorcees',titlefont_size=16,tickfont_size=14))\n",
    "gx_divor2.show()"
   ]
  },
  {
   "cell_type": "markdown",
   "metadata": {},
   "source": [
    "#### Interpretation:\n",
    "\n",
    "\n",
    "\n",
    "*Considering the graph 3.2.0 :*\n",
    "\n",
    "This line graph represents the median age of the male and female divorcees at the time of the divorce during the study period that is from the year 1998 to 2019.\n",
    "When both male and female divorcees are considered together, It can be seen that the  range of the median age was around 35 to 39 years in the year 1998 and it steadily increased with few fluctuations till it was around 39 to 44 years in the year 2019.\n",
    "Thus, it can be said that the graph is dominated by the Gen X.\n",
    "\n",
    "*Considering the graph 3.2.1 :*\n",
    "\n",
    "This bar graph depicts the total number of divorces of male and female during the study period. Since the values for the total number of divorces of both male and female are equal, it will be condidered together. It can be seen that the total number of divorces in the year 1998 was 3924 and since then it has progressively increased with few variations in the last 20 years and by the year 2019, it was 5633.\n",
    "Thus, number of divorces in singapore has drastically increased in the last 20 years.\n",
    "\n",
    "*Considering the graph 3.2.2 :*\n",
    "\n",
    "This bar graph represents the number of Millennial male divorcees categorized according to their age group during the study period.\n",
    "It can be seen that the number of male divorcees for the younger age group, aged from 15 to 34 years varied till the year 2007 and after that it has steadily declined with some fluctuations by the year 2019. Meanwhile the number of male divorcees of the older age group, aged from 35 to 39 years has progressvely increased by the year 2019.\n",
    "\n",
    "*Considering the graph 3.2.3 :*\n",
    "\n",
    "This bar graph depicts the number of Millennial female divorcees categorized according to their age group during the study period.\n",
    "The number of female divorcees for the younger age group, aged from 15 to 29 yearsr varied till the year 2007 and since then it has progressively reduced by the year 2019. While the number of female divorcees of the older age group, aged from 30 to 39 years has progressively increased by the year 2019.\n",
    "\n",
    "*Considering the graph 3.2.4 :*\n",
    "\n",
    "This bar chart represents the number of Gen X male divorcees categorized according to their age groups.  When each age group is considered individually, it is seen that the number of the Gen X male divorcees varied till the year 2000 and after that it progressively increased by the year 2019 with very few fluctuations.\n",
    "Thus, the number of Gen X male divorcees have increased in the last 20 years.\n",
    "\n",
    "*Considering the graph 3.2.5 :*\n",
    "\n",
    "Similar to the previous graph, this bar chart represents the number of Gen X female divorcees categorized according to their age groups.  When each age group is considered individually, it is seen that the number of the Gen X female divorcees varied till the year 2000 and after that it progressively increased by the year 2019 with very few fluctuations.\n",
    "Thus, the number of Gen X female divorcees have increased in the last 20 years.\n"
   ]
  },
  {
   "cell_type": "markdown",
   "metadata": {},
   "source": [
    "### 3.3         Key factors of  Divorce  in singapore during the period 1998 to 2019.\n",
    "\n",
    "This study considers the total number of divorces and the key factors of divorces which includes the median age of the male and female divorcees and the median duration of marriage for divorce during the study period.\n",
    "\n",
    "**Tables :**\n",
    "\n",
    "This table was cleaned and saved under the variable divorce_key_indicator. The data from this table was then split into two dataframes and only those variables were included which was relevant for the study and was saved under the variable key_factors_divorce."
   ]
  },
  {
   "cell_type": "code",
   "execution_count": null,
   "metadata": {
    "ExecuteTime": {
     "end_time": "2023-11-03T21:33:02.287124Z",
     "start_time": "2023-11-03T21:32:59.203Z"
    },
    "scrolled": true
   },
   "outputs": [],
   "source": [
    "divorce_key_indicator.loc[19:].reset_index().drop(columns='index')"
   ]
  },
  {
   "cell_type": "markdown",
   "metadata": {},
   "source": [
    "                           Table 3.3.0 : The Dataset of key indicators of divorce"
   ]
  },
  {
   "cell_type": "code",
   "execution_count": null,
   "metadata": {
    "ExecuteTime": {
     "end_time": "2023-11-03T21:33:02.288124Z",
     "start_time": "2023-11-03T21:32:59.206Z"
    },
    "scrolled": true
   },
   "outputs": [],
   "source": [
    "# The Key factors of divorce\n",
    "key_factors_divorce"
   ]
  },
  {
   "cell_type": "markdown",
   "metadata": {},
   "source": [
    "                           Table 3.3.1 : The Key factors of divorce"
   ]
  },
  {
   "cell_type": "markdown",
   "metadata": {},
   "source": [
    "**Graphs:**\n",
    "\n",
    "For the graphs given below, the Plotly library has been used."
   ]
  },
  {
   "cell_type": "code",
   "execution_count": null,
   "metadata": {
    "ExecuteTime": {
     "end_time": "2023-11-03T21:33:02.289125Z",
     "start_time": "2023-11-03T21:32:59.209Z"
    }
   },
   "outputs": [],
   "source": [
    "import plotly.express as px\n",
    "import plotly.graph_objs as go\n",
    "\n",
    "# Total divorce\n",
    "di_k = px.line(key_factors_divorce,x=\"Years\",y=['Total Divorces (Number)'],color_discrete_sequence=px.colors.qualitative.Plotly_r)\n",
    "di_k.update_layout(\n",
    "title='Graph 3.3.0: Total divorce during the study period', hovermode='x', width = 1000, \n",
    "xaxis_tickfont_size=14,\n",
    "yaxis= dict(title='Number of Divorces ',titlefont_size=16,tickfont_size=14))\n",
    "di_k.show()"
   ]
  },
  {
   "cell_type": "code",
   "execution_count": null,
   "metadata": {
    "ExecuteTime": {
     "end_time": "2023-11-03T21:33:02.289125Z",
     "start_time": "2023-11-03T21:32:59.212Z"
    }
   },
   "outputs": [],
   "source": [
    "import plotly.express as px\n",
    "import plotly.graph_objs as go\n",
    "\n",
    "# Key factors of divorce\n",
    "di_k2 = px.line(key_factors_divorce,x=\"Years\",y=['Median Age Of Male Divorcees (Years)', 'Median Age Of Female Divorcees (Years)', 'Median Duration Of Marriage For Divorces (Years)'],color_discrete_sequence=px.colors.qualitative.Safe)\n",
    "di_k2.update_layout(\n",
    "title='Graph 3.3.1: Key Factors of divorce', hovermode='x', width = 1200, \n",
    "xaxis_tickfont_size=14,\n",
    "yaxis= dict(title='Number of Years ',titlefont_size=16,tickfont_size=14))\n",
    "di_k2.show()"
   ]
  },
  {
   "cell_type": "markdown",
   "metadata": {},
   "source": [
    "#### Interpretation:\n",
    "\n",
    "\n",
    "\n",
    "*Considering the graph 3.3.0 :*\n",
    "\n",
    "This line graph represents the total number of divorces during the study period which is from the year 1998 to 2019.\n",
    "It can be seen that in the year 1998, the total number of divorces was 5378 and it drastically dipped till the year 2001. After that the number of divorces has progrssively increased with few fluctuations by the year 2019 with 7330.\n",
    "Thus, the total number of divorces has drastically increased in the last 20 years.\n",
    "\n",
    "*Considering the graph 3.3.1 :*\n",
    "\n",
    "This line chart depicts the key factors of divorce which includes- the Median age of male and female divorcees and the median duration of marriage for divorcees.\n",
    "When the median age of male and female divorcees are considered together, it can be seen that the median age of the divorcees were in the range of 35 to 38 years in the year 1998. After that it has progressively increased with few fluctuations and by the year 2019, it was in the range of 39 to 43 years.\n",
    "The median duration of marriage for divorcees on the otherhand faced a major dip in the year 2004 with 9.2 years and it progressively increased till the year 2010 with 10.6 years. After that it had marginally decreased by the year 2019 with 10.4 years \n",
    "\n"
   ]
  },
  {
   "cell_type": "markdown",
   "metadata": {},
   "source": [
    "### 3.4         Possible reasons for Divorce  in singapore during the period 1998 to 2019.\n",
    "\n",
    "A Literature review was done in order to find out what could be the possible reasons for Divorce and some of them which have been given below.\n",
    "\n",
    "**1. Adultery**\n",
    "\n",
    "One of the most common reasons for divorce would be if a spouce found their respective partner involved in cheating or extramartial affair.\n",
    "\n",
    "**2. Communication problems and quarrels**\n",
    "\n",
    "If a married couple do not know how to communicate properly then it would lead to a series of misunderstandings and quarrels which might ultimately end in divorce.\n",
    "\n",
    "**3. Financial Issues**\n",
    "\n",
    "Married couples may be under lot of financial stress and pressure. In such a case, they might end up disagreeing on how to spend money and it might lead to fights."
   ]
  },
  {
   "cell_type": "markdown",
   "metadata": {},
   "source": [
    "# 10 ) Key Findings:\n",
    "\n",
    "\n",
    "\n",
    "\n",
    "1. From the year 1998 to 2012, the average population of singapore was dominated by the Millennials after which the number of Gen X increased.\n",
    "\n",
    "2. The marriage rates of the Millennials progressively decreased while in the case of the Gen X, it increased in a span of 20 years.\n",
    "\n",
    "3. The Gen X males mostly contribute to the remarriage trend while the first marriage is dominated by the Millennials.\n",
    "\n",
    "4. The divorce rates of the Singaporean Millennials have decreaded while that of the Gen X has increased in a span of 20 years.\n",
    "\n",
    "5. The median duration of marriage has increased from 9.8 to 10.4 years at the time of divorce in the last 20 years.\n",
    "\n",
    "6. The median age of the divorcees at the time of divorce was in the range of 40 years and over in the last 20 years."
   ]
  },
  {
   "cell_type": "markdown",
   "metadata": {},
   "source": [
    "# 11 ) Conclusion\n",
    "\n",
    "\n",
    "From the above study it can be noted that the younger age group of the Millennials ager 15 to 30 years are divorcing less. While the divorce rates are higher for the older age group of Millennials in the range of 35 - 39 years and the Generation X.\n",
    "\n",
    "Thus, it can be concluded that the Millennials are divorcing less and the major contribution to the divorce trend is done by the older generation that is the Gen X in the last 20 years."
   ]
  },
  {
   "cell_type": "markdown",
   "metadata": {},
   "source": [
    "# 12 ) Reference:\n",
    "\n",
    "\n",
    "The websites:\n",
    "\n",
    "https://www.onlinecitizenasia.com/2019/06/18/singaporean-millennials-are-divorcing-less-but-why/\n",
    "\n",
    "https://www.singaporedivorcelawyer.com.sg/common-reasons-divorce-singapore/\n",
    "\n",
    "https://lamnco.com.sg/blog/singaporean-millennials-are-divorcing-less-but-why.html\n",
    "\n",
    "https://plotly.com/python/bar-charts/\n",
    "\n",
    "https://github.com/minrk/ipython_extensions\n",
    "\n",
    "\n",
    "All the additional datasets has been taken from Yearbook of Statistics Singapore 2019 published by Department of Statistics Singapore."
   ]
  },
  {
   "cell_type": "code",
   "execution_count": null,
   "metadata": {},
   "outputs": [],
   "source": []
  }
 ],
 "metadata": {
  "kernelspec": {
   "display_name": "Python 3",
   "language": "python",
   "name": "python3"
  },
  "language_info": {
   "codemirror_mode": {
    "name": "ipython",
    "version": 3
   },
   "file_extension": ".py",
   "mimetype": "text/x-python",
   "name": "python",
   "nbconvert_exporter": "python",
   "pygments_lexer": "ipython3",
   "version": "3.8.5"
  },
  "toc": {
   "base_numbering": 1,
   "nav_menu": {},
   "number_sections": false,
   "sideBar": false,
   "skip_h1_title": false,
   "title_cell": "Table of Contents",
   "title_sidebar": "Contents",
   "toc_cell": true,
   "toc_position": {
    "height": "calc(100% - 180px)",
    "left": "10px",
    "top": "150px",
    "width": "165px"
   },
   "toc_section_display": true,
   "toc_window_display": true
  },
  "varInspector": {
   "cols": {
    "lenName": 16,
    "lenType": 16,
    "lenVar": 40
   },
   "kernels_config": {
    "python": {
     "delete_cmd_postfix": "",
     "delete_cmd_prefix": "del ",
     "library": "var_list.py",
     "varRefreshCmd": "print(var_dic_list())"
    },
    "r": {
     "delete_cmd_postfix": ") ",
     "delete_cmd_prefix": "rm(",
     "library": "var_list.r",
     "varRefreshCmd": "cat(var_dic_list()) "
    }
   },
   "types_to_exclude": [
    "module",
    "function",
    "builtin_function_or_method",
    "instance",
    "_Feature"
   ],
   "window_display": false
  }
 },
 "nbformat": 4,
 "nbformat_minor": 2
}
